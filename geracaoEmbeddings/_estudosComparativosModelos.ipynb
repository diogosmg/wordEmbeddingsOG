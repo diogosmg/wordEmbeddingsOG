{
 "cells": [
  {
   "cell_type": "code",
   "execution_count": 3,
   "metadata": {},
   "outputs": [
    {
     "name": "stderr",
     "output_type": "stream",
     "text": [
      "C:\\ProgramData\\Anaconda3\\lib\\site-packages\\gensim\\utils.py:1197: UserWarning: detected Windows; aliasing chunkize to chunkize_serial\n",
      "  warnings.warn(\"detected Windows; aliasing chunkize to chunkize_serial\")\n"
     ]
    }
   ],
   "source": [
    "#import fasttext\n",
    "import os\n",
    "from pathlib import Path\n",
    "import datetime\n",
    "import gensim\n",
    "from gensim.models import Word2Vec\n",
    "from gensim.models.wrappers import FastText\n",
    "from gensim.models import KeyedVectors"
   ]
  },
  {
   "cell_type": "code",
   "execution_count": 5,
   "metadata": {},
   "outputs": [
    {
     "ename": "IndentationError",
     "evalue": "unexpected indent (<ipython-input-5-8b88442fd6a8>, line 3)",
     "output_type": "error",
     "traceback": [
      "\u001b[1;36m  File \u001b[1;32m\"<ipython-input-5-8b88442fd6a8>\"\u001b[1;36m, line \u001b[1;32m3\u001b[0m\n\u001b[1;33m    arquivoUSP,\u001b[0m\n\u001b[1;37m    ^\u001b[0m\n\u001b[1;31mIndentationError\u001b[0m\u001b[1;31m:\u001b[0m unexpected indent\n"
     ]
    }
   ],
   "source": [
    "arquivoUSP = os.path.join(\"modelos\", 'word2vec-NILC-D100.txt')\n",
    "word2vecUSP = gensim.models.KeyedVectors.load_word2vec_format(\n",
    "            arquivoUSP,\n",
    "            binary=False,\n",
    "            unicode_errors='ignore')"
   ]
  },
  {
   "cell_type": "code",
   "execution_count": 6,
   "metadata": {},
   "outputs": [],
   "source": [
    "arquivoWord2vec = os.path.join(\"modelos\", 'word2vec_100.model')\n",
    "word2vec = gensim.models.Word2Vec.load(arquivoWord2vec)"
   ]
  },
  {
   "cell_type": "code",
   "execution_count": 4,
   "metadata": {
    "collapsed": true
   },
   "outputs": [],
   "source": [
    "fasttext = FastText.load_fasttext_format(\"modelos/fasttext-100\")"
   ]
  },
  {
   "cell_type": "code",
   "execution_count": 5,
   "metadata": {
    "collapsed": true
   },
   "outputs": [],
   "source": [
    "arquivoGlove = os.path.join(\"modelos\", 'glove-100.txt')\n",
    "glove = KeyedVectors.load_word2vec_format(arquivoGlove, unicode_errors=\"ignore\")"
   ]
  },
  {
   "cell_type": "code",
   "execution_count": null,
   "metadata": {},
   "outputs": [],
   "source": []
  },
  {
   "cell_type": "code",
   "execution_count": null,
   "metadata": {},
   "outputs": [],
   "source": []
  },
  {
   "cell_type": "code",
   "execution_count": 14,
   "metadata": {},
   "outputs": [
    {
     "name": "stdout",
     "output_type": "stream",
     "text": [
      "\n",
      "Word2vec: [('angico', 0.8652803897857666), ('tabuiaia', 0.864014744758606), ('seriema', 0.8587900400161743), ('limoeiro', 0.8560187816619873), ('livramento', 0.8540734052658081), ('cidreira', 0.8499200344085693), ('marambaia', 0.8498145341873169), ('aquidauana', 0.8493748307228088), ('cioba', 0.8406262397766113), ('garcas', 0.8391112089157104)]\n"
     ]
    }
   ],
   "source": [
    "print(\"\\nWord2vec:\", word2vec.wv.most_similar(\"acaua\"))"
   ]
  },
  {
   "cell_type": "code",
   "execution_count": 15,
   "metadata": {},
   "outputs": [
    {
     "name": "stdout",
     "output_type": "stream",
     "text": [
      "\n",
      "Word2vec: [('roncador', 0.8960795402526855), ('pampo', 0.8887592554092407), ('jubarte', 0.8859463930130005), ('enchova', 0.8826988935470581), ('barracuda', 0.8709334135055542), ('badejo', 0.8657621145248413), ('anequim', 0.8606505393981934), ('marimba', 0.858730673789978), ('pargo', 0.8542441725730896), ('trilha', 0.8421380519866943)]\n"
     ]
    }
   ],
   "source": [
    "print(\"\\nWord2vec:\", word2vec.wv.most_similar(\"albacora\"))"
   ]
  },
  {
   "cell_type": "code",
   "execution_count": 17,
   "metadata": {},
   "outputs": [
    {
     "name": "stdout",
     "output_type": "stream",
     "text": [
      "\n",
      "Word2vec: [('tabuiaia', 0.8300044536590576), ('aracari', 0.826539933681488), ('arabaiana', 0.8014426231384277), ('acaua', 0.7982447743415833), ('tapiranga', 0.7909108996391296), ('uirapuru', 0.7875704765319824), ('xingu', 0.7871638536453247), ('pedras', 0.7828103303909302), ('juazeiro', 0.7789655327796936), ('azulao', 0.7721010446548462)]\n"
     ]
    }
   ],
   "source": [
    "print(\"\\nWord2vec:\", word2vec.wv.most_similar(\"andorinha\"))"
   ]
  },
  {
   "cell_type": "code",
   "execution_count": 18,
   "metadata": {},
   "outputs": [
    {
     "name": "stdout",
     "output_type": "stream",
     "text": [
      "\n",
      "Word2vec: [('buracica', 0.8866904973983765), ('jiquia', 0.8419341444969177), ('cassarongongo', 0.8087590932846069), ('itaparica', 0.8028774261474609), ('bimbarra', 0.797400712966919), ('maruim', 0.784949779510498), ('barremiano', 0.7743199467658997), ('forquilha', 0.7724441289901733), ('vila', 0.769291341304779), ('agba', 0.7653037905693054)]\n"
     ]
    }
   ],
   "source": [
    "print(\"\\nWord2vec:\", word2vec.wv.most_similar(\"aratu\"))"
   ]
  },
  {
   "cell_type": "code",
   "execution_count": 19,
   "metadata": {},
   "outputs": [
    {
     "name": "stdout",
     "output_type": "stream",
     "text": [
      "\n",
      "Word2vec: [('japiim', 0.9675864577293396), ('tapiranga', 0.865422248840332), ('paramirim', 0.8599097728729248), ('carapanauba', 0.8577714562416077), ('araracanga', 0.8553589582443237), ('guanambi', 0.8525977730751038), ('anchieta', 0.8513777256011963), ('pinauna', 0.8490304946899414), ('fabriciano', 0.8482505083084106), ('jandui', 0.8442144393920898)]\n"
     ]
    }
   ],
   "source": [
    "print(\"\\nWord2vec:\", word2vec.wv.most_similar(\"azulao\"))"
   ]
  },
  {
   "cell_type": "code",
   "execution_count": 22,
   "metadata": {},
   "outputs": [
    {
     "name": "stdout",
     "output_type": "stream",
     "text": [
      "\n",
      "Word2vec: [('barracuda', 0.880673885345459), ('caratinga', 0.8611006736755371), ('jubarte', 0.8587646484375), ('camorim', 0.8556768894195557), ('bijupira', 0.8541386723518372), ('marimba', 0.8469838500022888), ('caioba', 0.8373440504074097), ('cachalote', 0.824143648147583), ('curima', 0.8238437175750732), ('corvina', 0.8196084499359131)]\n"
     ]
    }
   ],
   "source": [
    "print(\"\\nWord2vec:\", word2vec.wv.most_similar(\"espadarte\"))"
   ]
  },
  {
   "cell_type": "code",
   "execution_count": 24,
   "metadata": {},
   "outputs": [
    {
     "name": "stdout",
     "output_type": "stream",
     "text": [
      "\n",
      "Word2vec: [('cioba', 0.9293439388275146), ('colibri', 0.9282779693603516), ('dentao', 0.9176337718963623), ('pocinho', 0.8982905149459839), ('remanso', 0.8876299858093262), ('almas', 0.8868832588195801), ('icapui', 0.8862133622169495), ('ribas', 0.8846103549003601), ('brejinho', 0.8779009580612183), ('carcara', 0.8778509497642517)]\n"
     ]
    }
   ],
   "source": [
    "print(\"\\nWord2vec:\", word2vec.wv.most_similar(\"cachoeirinha\"))"
   ]
  },
  {
   "cell_type": "code",
   "execution_count": 28,
   "metadata": {},
   "outputs": [
    {
     "name": "stdout",
     "output_type": "stream",
     "text": [
      "\n",
      "Word2vec: [('araracanga', 0.9190467596054077), ('abalone', 0.90116286277771), ('pajeu', 0.898190975189209), ('japiim', 0.8933346271514893), ('alagoinhas', 0.8895620703697205), ('benevides', 0.886786162853241), ('mandacaru', 0.8801141977310181), ('jaraguari', 0.8799432516098022), ('cioba', 0.879336953163147), ('icara', 0.8784857392311096)]\n"
     ]
    }
   ],
   "source": [
    "print(\"\\nWord2vec:\", word2vec.wv.most_similar(\"carapanauba\"))"
   ]
  },
  {
   "cell_type": "code",
   "execution_count": 29,
   "metadata": {},
   "outputs": [
    {
     "name": "stdout",
     "output_type": "stream",
     "text": [
      "\n",
      "Word2vec: [('pargo', 0.8390957117080688), ('linguado', 0.8183844089508057), ('cherne', 0.8098872303962708), ('garoupinha', 0.803707480430603), ('anequim', 0.801713228225708), ('marimba', 0.7983571887016296), ('badejo', 0.7894030809402466), ('namorado', 0.7851772904396057), ('enchova', 0.7777977585792542), ('apiuna', 0.7765026688575745)]\n"
     ]
    }
   ],
   "source": [
    "print(\"\\nWord2vec:\", word2vec.wv.most_similar(\"carapeba\"))"
   ]
  },
  {
   "cell_type": "code",
   "execution_count": 30,
   "metadata": {},
   "outputs": [
    {
     "name": "stdout",
     "output_type": "stream",
     "text": [
      "\n",
      "Word2vec: [('linguado', 0.9283629059791565), ('anequim', 0.9155217409133911), ('badejo', 0.9065942168235779), ('corvina', 0.9059460163116455), ('bicudo', 0.9042543172836304), ('enchova', 0.9035155177116394), ('pampo', 0.8998640775680542), ('pargo', 0.8980931043624878), ('bagre', 0.8953737020492554), ('trilha', 0.8938133120536804)]\n"
     ]
    }
   ],
   "source": [
    "print(\"\\nWord2vec:\", word2vec.wv.most_similar(\"cherne\"))"
   ]
  },
  {
   "cell_type": "code",
   "execution_count": 31,
   "metadata": {},
   "outputs": [
    {
     "name": "stdout",
     "output_type": "stream",
     "text": [
      "\n",
      "Word2vec: [('badejo', 0.9296346306800842), ('pampo', 0.92890864610672), ('corvina', 0.9275253415107727), ('pargo', 0.9143132567405701), ('linguado', 0.9141019582748413), ('pirauna', 0.9111934304237366), ('caioba', 0.9062387943267822), ('cherne', 0.9035155177116394), ('bicudo', 0.8957740664482117), ('barracuda', 0.8943276405334473)]\n"
     ]
    }
   ],
   "source": [
    "print(\"\\nWord2vec:\", word2vec.wv.most_similar(\"enchova\"))"
   ]
  },
  {
   "cell_type": "code",
   "execution_count": 33,
   "metadata": {},
   "outputs": [
    {
     "name": "stdout",
     "output_type": "stream",
     "text": [
      "\n",
      "Word2vec: [('xareu', 0.9536482095718384), ('curima', 0.930121660232544), ('atum', 0.9257048964500427), ('voador', 0.8899456262588501), ('salgo', 0.8887499570846558), ('cachalote', 0.8879890441894531), ('corvina', 0.8837505578994751), ('salema', 0.8772183656692505), ('argonauta', 0.8749167919158936), ('anequim', 0.8706762790679932)]\n"
     ]
    }
   ],
   "source": [
    "print(\"\\nWord2vec:\", word2vec.wv.most_similar(\"espada\"))"
   ]
  },
  {
   "cell_type": "code",
   "execution_count": 34,
   "metadata": {},
   "outputs": [
    {
     "name": "stdout",
     "output_type": "stream",
     "text": [
      "\n",
      "Word2vec: [('caioba', 0.8225807547569275), ('robalo', 0.8039448261260986), ('guaricema', 0.8018782138824463), ('marimba', 0.7951087951660156), ('enchova', 0.7903982400894165), ('pampo', 0.7887354493141174), ('camorim', 0.7879393696784973), ('miranga', 0.7820651531219482), ('merluza', 0.7787059545516968), ('pilar', 0.7784222364425659)]\n"
     ]
    }
   ],
   "source": [
    "print(\"\\nWord2vec:\", word2vec.wv.most_similar(\"furado\"))"
   ]
  },
  {
   "cell_type": "code",
   "execution_count": 41,
   "metadata": {},
   "outputs": [
    {
     "name": "stdout",
     "output_type": "stream",
     "text": [
      "\n",
      "Word2vec: [('marimba', 0.9208014011383057), ('pirauna', 0.9097921848297119), ('cachalote', 0.9087785482406616), ('roncador', 0.9086370468139648), ('sapinhoa', 0.9014599323272705), ('barracuda', 0.8984366655349731), ('polvo', 0.8921999931335449), ('peregrino', 0.8882380723953247), ('moreia', 0.8881997466087341), ('albacora', 0.8859463930130005)]\n"
     ]
    }
   ],
   "source": [
    "print(\"\\nWord2vec:\", word2vec.wv.most_similar(\"jubarte\"))"
   ]
  },
  {
   "cell_type": "code",
   "execution_count": 42,
   "metadata": {},
   "outputs": [
    {
     "name": "stdout",
     "output_type": "stream",
     "text": [
      "\n",
      "Word2vec: [('badejo', 0.9582263231277466), ('corvina', 0.9318656921386719), ('cherne', 0.9283628463745117), ('pargo', 0.9246202111244202), ('trilha', 0.9236710071563721), ('anequim', 0.922099769115448), ('parati', 0.9213992357254028), ('bagre', 0.9189125895500183), ('garoupinha', 0.9184970855712891), ('enchova', 0.9141019582748413)]\n"
     ]
    }
   ],
   "source": [
    "print(\"\\nWord2vec:\", word2vec.wv.most_similar(\"linguado\"))"
   ]
  },
  {
   "cell_type": "code",
   "execution_count": 43,
   "metadata": {},
   "outputs": [
    {
     "name": "stdout",
     "output_type": "stream",
     "text": [
      "\n",
      "Word2vec: [('sapinhoa', 0.9230421781539917), ('jubarte', 0.8586905002593994), ('bauna', 0.8529883623123169), ('peregrino', 0.8375654220581055), ('lldrjs', 0.8346127867698669), ('mexilhao', 0.831118643283844), ('iara', 0.8257104754447937), ('merluza', 0.8211143016815186), ('brsarjs', 0.8153954148292542), ('llrjs', 0.8078674077987671)]\n"
     ]
    }
   ],
   "source": [
    "print(\"\\nWord2vec:\", word2vec.wv.most_similar(\"lula\"))"
   ]
  },
  {
   "cell_type": "code",
   "execution_count": 45,
   "metadata": {},
   "outputs": [
    {
     "name": "stdout",
     "output_type": "stream",
     "text": [
      "\n",
      "Word2vec: [('congro', 0.9754377603530884), ('garoupinha', 0.9074721932411194), ('corvina', 0.905340850353241), ('parati', 0.8948542475700378), ('voador', 0.8777783513069153), ('pirauna', 0.8726903200149536), ('cachalote', 0.8623476028442383), ('paleocanyon', 0.858095645904541), ('bicudo', 0.8451030850410461), ('fields', 0.8385304808616638)]\n"
     ]
    }
   ],
   "source": [
    "print(\"\\nWord2vec:\", word2vec.wv.most_similar(\"malhado\"))"
   ]
  },
  {
   "cell_type": "code",
   "execution_count": 47,
   "metadata": {},
   "outputs": [
    {
     "name": "stdout",
     "output_type": "stream",
     "text": [
      "\n",
      "Word2vec: [('jubarte', 0.9208015203475952), ('roncador', 0.8980739116668701), ('pirauna', 0.8919753432273865), ('enchova', 0.888266384601593), ('corvina', 0.8835163116455078), ('merluza', 0.876426100730896), ('moreia', 0.8741993308067322), ('pargo', 0.8718883991241455), ('parati', 0.8640445470809937), ('garoupinha', 0.8639220595359802)]\n"
     ]
    }
   ],
   "source": [
    "print(\"\\nWord2vec:\", word2vec.wv.most_similar(\"marimba\"))"
   ]
  },
  {
   "cell_type": "code",
   "execution_count": 48,
   "metadata": {},
   "outputs": [
    {
     "name": "stdout",
     "output_type": "stream",
     "text": [
      "\n",
      "Word2vec: [('pampo', 0.826755702495575), ('marimba', 0.806540310382843), ('cherne', 0.7956502437591553), ('carapeba', 0.7851772904396057), ('pargo', 0.7847603559494019), ('badejo', 0.7785553932189941), ('albacora', 0.7492033243179321), ('garoupa', 0.7484085559844971), ('enchova', 0.7424796223640442), ('miranga', 0.7320939302444458)]\n"
     ]
    }
   ],
   "source": [
    "print(\"\\nWord2vec:\", word2vec.wv.most_similar(\"namorado\"))"
   ]
  },
  {
   "cell_type": "code",
   "execution_count": 49,
   "metadata": {},
   "outputs": [
    {
     "name": "stdout",
     "output_type": "stream",
     "text": [
      "\n",
      "Word2vec: [('parati', 0.9656864404678345), ('bicudo', 0.9598129391670227), ('polvo', 0.9546035528182983), ('cachalote', 0.9447538256645203), ('corvina', 0.9410812854766846), ('bagre', 0.9406700730323792), ('moreia', 0.937120795249939), ('voador', 0.9336056113243103), ('pirambu', 0.931138277053833), ('barracuda', 0.9232923984527588)]\n"
     ]
    }
   ],
   "source": [
    "print(\"\\nWord2vec:\", word2vec.wv.most_similar(\"pirauna\"))"
   ]
  },
  {
   "cell_type": "code",
   "execution_count": 50,
   "metadata": {},
   "outputs": [
    {
     "name": "stdout",
     "output_type": "stream",
     "text": [
      "\n",
      "Word2vec: [('jubarte', 0.9086369276046753), ('marimba', 0.8980737328529358), ('albacora', 0.8960794806480408), ('piranema', 0.8650019764900208), ('enchova', 0.8649019002914429), ('peregrino', 0.860282838344574), ('pirauna', 0.8577393293380737), ('pampo', 0.8551588654518127), ('merluza', 0.8437620997428894), ('badejo', 0.8419806957244873)]\n"
     ]
    }
   ],
   "source": [
    "print(\"\\nWord2vec:\", word2vec.wv.most_similar(\"roncador\"))"
   ]
  },
  {
   "cell_type": "code",
   "execution_count": 52,
   "metadata": {},
   "outputs": [
    {
     "name": "stdout",
     "output_type": "stream",
     "text": [
      "\n",
      "Word2vec: [('seriema', 0.9432220458984375), ('acaua', 0.8640146255493164), ('apora', 0.8551884889602661), ('colibri', 0.8306251764297485), ('andorinha', 0.8300043344497681), ('paio', 0.8195679187774658), ('cioba', 0.8191165328025818), ('jiparana', 0.8152860999107361), ('xingu', 0.8055791854858398), ('livramento', 0.8041296005249023)]\n"
     ]
    }
   ],
   "source": [
    "print(\"\\nWord2vec:\", word2vec.wv.most_similar(\"tabuiaia\"))"
   ]
  },
  {
   "cell_type": "code",
   "execution_count": 53,
   "metadata": {},
   "outputs": [
    {
     "name": "stdout",
     "output_type": "stream",
     "text": [
      "\n",
      "Word2vec: [('tangara', 0.8454331159591675), ('socorro', 0.8443849086761475), ('sesmaria', 0.8429833054542542), ('morrinho', 0.8096270561218262), ('ticotico', 0.8076608180999756), ('tapiranga', 0.8040862679481506), ('aruari', 0.7981193661689758), ('japiim', 0.7927440404891968), ('carapitanga', 0.7925376892089844), ('carcara', 0.789081335067749)]\n"
     ]
    }
   ],
   "source": [
    "print(\"\\nWord2vec:\", word2vec.wv.most_similar(\"sussuarana\"))"
   ]
  },
  {
   "cell_type": "code",
   "execution_count": 55,
   "metadata": {},
   "outputs": [
    {
     "name": "stdout",
     "output_type": "stream",
     "text": [
      "\n",
      "Word2vec: [('macau', 0.8713815212249756), ('taquipe', 0.8675087690353394), ('pescada', 0.8656936883926392), ('cherne', 0.8462526798248291), ('badejo', 0.8461931943893433), ('carmopolis', 0.8433048129081726), ('piranema', 0.842170238494873), ('merluza', 0.8320189714431763), ('upanema', 0.8316521644592285), ('caioba', 0.8297954797744751)]\n"
     ]
    }
   ],
   "source": [
    "print(\"\\nWord2vec:\", word2vec.wv.most_similar(\"ubarana\"))"
   ]
  },
  {
   "cell_type": "code",
   "execution_count": 56,
   "metadata": {},
   "outputs": [
    {
     "name": "stdout",
     "output_type": "stream",
     "text": [
      "\n",
      "Word2vec: [('salgo', 0.8955227136611938), ('robalo', 0.8609418869018555), ('livramento', 0.8515797257423401), ('massape', 0.8496094942092896), ('lorena', 0.8469724655151367), ('espada', 0.8467452526092529), ('paru', 0.8467346429824829), ('curima', 0.8460369110107422), ('mandacaru', 0.845198929309845), ('aguilhada', 0.8439112305641174)]\n"
     ]
    }
   ],
   "source": [
    "print(\"\\nWord2vec:\", word2vec.wv.most_similar(\"upanema\"))"
   ]
  },
  {
   "cell_type": "code",
   "execution_count": 59,
   "metadata": {},
   "outputs": [
    {
     "name": "stdout",
     "output_type": "stream",
     "text": [
      "\n",
      "Word2vec: [('voador', 0.9105671048164368), ('pirauna', 0.896315336227417), ('parati', 0.8935987949371338), ('cioba', 0.8787931203842163), ('salema', 0.877351701259613), ('anequim', 0.8740228414535522), ('trilha', 0.8698358535766602), ('abalone', 0.869482159614563), ('polvo', 0.8682752251625061), ('cachalote', 0.866317629814148)]\n"
     ]
    }
   ],
   "source": [
    "print(\"\\nWord2vec:\", word2vec.wv.most_similar(\"viola\"))"
   ]
  },
  {
   "cell_type": "code",
   "execution_count": 60,
   "metadata": {},
   "outputs": [
    {
     "name": "stdout",
     "output_type": "stream",
     "text": [
      "\n",
      "Word2vec: [('cachalote', 0.958687961101532), ('parati', 0.9493222832679749), ('polvo', 0.9408938884735107), ('pirauna', 0.9336057305335999), ('bicudo', 0.9283413887023926), ('tambau', 0.9272816181182861), ('argonauta', 0.9240656495094299), ('abalone', 0.9213874340057373), ('bagre', 0.9167561531066895), ('urugua', 0.9161748886108398)]\n"
     ]
    }
   ],
   "source": [
    "print(\"\\nWord2vec:\", word2vec.wv.most_similar(\"voador\"))"
   ]
  },
  {
   "cell_type": "code",
   "execution_count": 61,
   "metadata": {},
   "outputs": [
    {
     "name": "stdout",
     "output_type": "stream",
     "text": [
      "\n",
      "Word2vec: [('espada', 0.9536482095718384), ('curima', 0.9397323131561279), ('atum', 0.938359260559082), ('voador', 0.8861106634140015), ('corvina', 0.8790152072906494), ('cachalote', 0.8694344162940979), ('parati', 0.8599478602409363), ('salgo', 0.8567475080490112), ('anequim', 0.8546596765518188), ('salema', 0.8530651926994324)]\n"
     ]
    }
   ],
   "source": [
    "print(\"\\nWord2vec:\", word2vec.wv.most_similar(\"xareu\"))"
   ]
  },
  {
   "cell_type": "code",
   "execution_count": null,
   "metadata": {},
   "outputs": [],
   "source": []
  },
  {
   "cell_type": "code",
   "execution_count": null,
   "metadata": {},
   "outputs": [],
   "source": []
  },
  {
   "cell_type": "code",
   "execution_count": null,
   "metadata": {},
   "outputs": [],
   "source": []
  },
  {
   "cell_type": "code",
   "execution_count": null,
   "metadata": {},
   "outputs": [],
   "source": []
  },
  {
   "cell_type": "code",
   "execution_count": 8,
   "metadata": {},
   "outputs": [
    {
     "name": "stdout",
     "output_type": "stream",
     "text": [
      "Word2vec NILC: [('petrobrás', 0.8521122932434082), ('petrobras.a', 0.7944865822792053), ('engevix', 0.7906163930892944), ('petrobras.o', 0.7864046096801758), ('petroleira', 0.7827526926994324), ('empreiteira', 0.7814963459968567), ('odebrecht', 0.7811719179153442), ('eletronuclear', 0.7745422720909119), ('oas', 0.771790623664856), ('gtech', 0.7389813661575317)]\n",
      "\n",
      "Word2vec: [('cenpes', 0.6239198446273804), ('e&p', 0.6001638770103455), ('empresa', 0.5906661152839661), ('p&d', 0.5771205425262451), ('companhia', 0.570834219455719), ('statoil', 0.5657901763916016), ('negocios', 0.5634889006614685), ('parceria', 0.5538510680198669), ('operadora', 0.5469069480895996), ('recebeu', 0.5422378182411194)]\n",
      "\n",
      "FastText: [('·petrobras', 0.9753918647766113), ('dapetrobras', 0.9520548582077026), ('tecpetrobras', 0.9518120288848877), ('petrobra', 0.9461559057235718), ('etrobras', 0.9456576108932495), ('bgppetrobras', 0.9435572624206543), ('petrobrasi', 0.9422931671142578), ('petrobr', 0.9421203136444092), ('petrobrs', 0.9369105100631714), ('janeiropetrobras', 0.9323675036430359)]\n",
      "\n",
      "Glove: [('gasmigfirmegeral', 0.9124213457107544), ('rpbajdirex', 0.7509245872497559), ('cenpes', 0.6594301462173462), ('janeiropetrobras', 0.6253244876861572), ('riodejaneiro', 0.6202174425125122), ('ecoscientia', 0.6084066033363342), ('mercedes·benz', 0.5997111797332764), ('maurischat', 0.5965620875358582), ('empresa', 0.5958917737007141), ('dadosestatisticos', 0.5909470319747925)]\n"
     ]
    }
   ],
   "source": [
    "print(\"Word2vec NILC:\", word2vecUSP.most_similar(\"petrobras\"))\n",
    "print(\"\\nWord2vec:\", word2vec.most_similar(\"petrobras\"))\n",
    "print(\"\\nFastText:\", fasttext.most_similar(\"petrobras\"))\n",
    "print(\"\\nGlove:\", glove.most_similar(\"petrobras\"))"
   ]
  },
  {
   "cell_type": "code",
   "execution_count": 23,
   "metadata": {},
   "outputs": [
    {
     "name": "stdout",
     "output_type": "stream",
     "text": [
      "Word2vec NILC: [('ex-presidente', 0.8366250991821289), ('inрcio', 0.8147034645080566), ('ex\\xadpresidente', 0.7630334496498108), ('inăącio', 0.760960578918457), ('inácio', 0.7562565803527832), ('lula.o', 0.7539244890213013), ('petista', 0.7472377419471741), ('transpetrosérgio', 0.719470739364624), ('ex-presidente.o', 0.7167390584945679), ('gushiken', 0.7123066186904907)]\n",
      "\n",
      "Word2vec: [('sapinhoa', 0.9230421781539917), ('jubarte', 0.8586905002593994), ('bauna', 0.8529884815216064), ('peregrino', 0.8375653624534607), ('lldrjs', 0.8346127867698669), ('mexilhao', 0.8311185836791992), ('iara', 0.8257104754447937), ('merluza', 0.8211143016815186), ('brsarjs', 0.8153953552246094), ('llrjs', 0.8078674674034119)]\n",
      "\n",
      "FastText: [('jubarte', 0.7747395634651184), ('baleia', 0.7617061138153076), ('trilha', 0.7576501965522766), ('garoupinha', 0.7529561519622803), ('espadarte', 0.750369131565094), ('bicudo', 0.7242259383201599), ('furadorobaloatalaia', 0.7137254476547241), ('tupi', 0.7076413631439209), ('marimba', 0.7040818333625793), ('badejo', 0.7010432481765747)]\n",
      "\n",
      "Glove: [('sapinhoa', 0.8017812967300415), ('brsaarjs', 0.6811800003051758), ('jubarte', 0.6492672562599182), ('sphdsps', 0.6023114323616028), ('mexilhao', 0.5640038251876831), ('baleia', 0.5383612513542175), ('lldrjs', 0.537922739982605), ('brsasps', 0.5172971487045288), ('sphsps', 0.5078973770141602), ('berenguer', 0.5063660144805908)]\n"
     ]
    }
   ],
   "source": [
    "print(\"Word2vec NILC:\", word2vecUSP.most_similar(\"lula\"))\n",
    "print(\"\\nWord2vec:\", word2vec.most_similar(\"lula\"))\n",
    "print(\"\\nFastText:\", fasttext.most_similar(\"lula\"))\n",
    "print(\"\\nGlove:\", glove.most_similar(\"lula\"))"
   ]
  },
  {
   "cell_type": "code",
   "execution_count": 26,
   "metadata": {},
   "outputs": [
    {
     "name": "stdout",
     "output_type": "stream",
     "text": [
      "Word2vec NILC: [('lava-jato', 0.81980299949646), ('jato.a', 0.7767994403839111), ('operaусo', 0.7736643552780151), ('zelotes', 0.7663669586181641), ('força-tarefa', 0.766302227973938), ('jato.em', 0.7587968707084656), ('lava', 0.7584253549575806), ('operaă§ăło', 0.7569991946220398), ('jato.brasília', 0.7523816823959351), ('jato.o', 0.7507374286651611)]\n",
      "\n",
      "Word2vec: [('recipiente', 0.6879860162734985), ('espuma', 0.6871029138565063), ('limpo', 0.6832345724105835), ('atomizacao', 0.6722420454025269), ('anodo', 0.6718379259109497), ('cheio', 0.6547877192497253), ('aquecer', 0.6534080505371094), ('aquecido', 0.6531069278717041), ('serpentina', 0.6526816487312317), ('manta', 0.6526197791099548)]\n",
      "\n",
      "FastText: [('jatos', 0.7086282968521118), ('desbaste', 0.6998480558395386), ('jateamento', 0.6933629512786865), ('prato', 0.6867904663085938), ('bombeado', 0.6840873956680298), ('jateado', 0.6759381294250488), ('girato', 0.667207658290863), ('espumante', 0.6670581102371216), ('jlmto', 0.6606706380844116), ('anticontato', 0.6589785814285278)]\n",
      "\n",
      "Glove: [('inserto', 0.4686863124370575), ('brocas', 0.4451039731502533), ('avioes', 0.43757614493370056), ('coque', 0.4101206958293915), ('tinta', 0.4084692895412445), ('fluir', 0.40371423959732056), ('aviao', 0.39855414628982544), ('abrasivo', 0.39263612031936646), ('ressalto', 0.3921959102153778), ('querosene', 0.39110738039016724)]\n"
     ]
    }
   ],
   "source": [
    "print(\"Word2vec NILC:\", word2vecUSP.most_similar(\"jato\"))\n",
    "print(\"\\nWord2vec:\", word2vec.most_similar(\"jato\"))\n",
    "print(\"\\nFastText:\", fasttext.most_similar(\"jato\"))\n",
    "print(\"\\nGlove:\", glove.most_similar(\"jato\"))"
   ]
  },
  {
   "cell_type": "code",
   "execution_count": 8,
   "metadata": {},
   "outputs": [
    {
     "name": "stdout",
     "output_type": "stream",
     "text": [
      "Word2vec NILC: [('estádio', 0.6407159566879272), ('gramado', 0.6240673065185547), ('farião', 0.6139582991600037), ('gravediggers', 0.6052605509757996), ('dourique', 0.5967111587524414), ('susica', 0.595841646194458), ('baetão', 0.5953855514526367), ('relvado', 0.5902824401855469), ('centro', 0.5838698744773865), ('batistão', 0.5805225372314453)]\n",
      "\n",
      "Word2vec: [('campos', 0.549098551273346), ('jazida', 0.5325629115104675), ('reservatorio', 0.529157280921936), ('potencial', 0.49860626459121704), ('bloco', 0.4819498062133789), ('reservatorios', 0.45807981491088867), ('lula', 0.4475017786026001), ('pioneiro', 0.44697466492652893), ('pocos', 0.4428269565105438), ('subsuperficie', 0.4388276934623718)]\n",
      "\n",
      "FastText: [('oampo', 0.7705942392349243), ('pampo', 0.6992131471633911), ('alvo', 0.6813772916793823), ('pocoreservatorio', 0.676353931427002), ('jubarte', 0.6540963649749756), ('biribapoco', 0.6532706022262573), ('espadarte', 0.6498264670372009), ('caioba', 0.6490423679351807), ('camorim', 0.6456599235534668), ('siririzinho', 0.6455831527709961)]\n",
      "\n",
      "Glove: [('covetorial', 0.836552619934082), ('campos', 0.6118323802947998), ('ecoscientia', 0.5741686224937439), ('gzmax', 0.556412935256958), ('reservatorio', 0.5528898239135742), ('pocos', 0.5520389676094055), ('exemplo', 0.5443481206893921), ('potencial', 0.5440205335617065), ('sm\\uf044', 0.5424942374229431), ('petrolifero', 0.5385518074035645)]\n"
     ]
    }
   ],
   "source": [
    "print(\"Word2vec NILC:\", word2vecUSP.most_similar(\"campo\"))\n",
    "print(\"\\nWord2vec:\", word2vec.most_similar(\"campo\"))\n",
    "print(\"\\nFastText:\", fasttext.most_similar(\"campo\"))\n",
    "print(\"\\nGlove:\", glove.most_similar(\"campo\"))"
   ]
  },
  {
   "cell_type": "code",
   "execution_count": 9,
   "metadata": {},
   "outputs": [
    {
     "name": "stdout",
     "output_type": "stream",
     "text": [
      "Word2vec NILC: [('vertedouro', 0.7881293296813965), ('colector', 0.7669695019721985), ('tanque', 0.7492077946662903), ('poço', 0.7469772696495056), ('condensador', 0.7226812243461609), ('efluente', 0.7223546504974365), ('encanamento', 0.7172062397003174), ('mineroduto', 0.7143437266349792), ('sedimento', 0.7141965627670288), ('cárter', 0.709072470664978)]\n",
      "\n",
      "Word2vec: [('reservatorios', 0.7259325385093689), ('servatorio', 0.672050952911377), ('jazida', 0.646669864654541), ('vatorio', 0.6430304050445557), ('reser', 0.6307891607284546), ('rocha', 0.6059345602989197), ('aquifero', 0.5776365995407104), ('fluido', 0.5754678249359131), ('rochareservatorio', 0.5697920918464661), ('fluxo', 0.5652250051498413)]\n",
      "\n",
      "FastText: [('servatorio', 0.9357015490531921), ('pocoreservatorio', 0.931215763092041), ('rochareservatorio', 0.927241325378418), ('reservato', 0.915084958076477), ('reservatrio', 0.9126532673835754), ('reservatorios', 0.8966954946517944), ('faciesreservatorio', 0.8932498693466187), ('reservatono', 0.8902463912963867), ('reservatorros', 0.8857879638671875), ('vatorio', 0.875938355922699)]\n",
      "\n",
      "Glove: [('reservatorios', 0.7245223522186279), ('poroso', 0.6732292175292969), ('pressao', 0.6017851829528809), ('injecao', 0.5981217622756958), ('porosidade', 0.5965573787689209), ('fluido', 0.5909149646759033), ('\\x03\\x0e\\x02\\x02\\x05', 0.5886223912239075), ('permeabilidade', 0.5798909068107605), ('pocos', 0.5747387409210205), ('t\\uf040ano\\uf044', 0.5706816911697388)]\n"
     ]
    }
   ],
   "source": [
    "print(\"Word2vec NILC:\", word2vecUSP.most_similar(\"reservatório\"))\n",
    "print(\"\\nWord2vec:\", word2vec.most_similar(\"reservatorio\"))\n",
    "print(\"\\nFastText:\", fasttext.most_similar(\"reservatorio\"))\n",
    "print(\"\\nGlove:\", glove.most_similar(\"reservatorio\"))"
   ]
  },
  {
   "cell_type": "code",
   "execution_count": 10,
   "metadata": {},
   "outputs": [
    {
     "name": "stdout",
     "output_type": "stream",
     "text": [
      "Word2vec NILC: [('sapinhoá', 0.6912160515785217), ('araguaia-tocantins', 0.6756405234336853), ('reflorestado', 0.6587828397750854), ('roncador', 0.6566688418388367), ('endorreica', 0.6399007439613342), ('micro-bacia', 0.6398642659187317), ('mosquitão', 0.6362356543540955), ('peixe-boi', 0.6341521143913269), ('guainía', 0.6325355768203735), ('dzungariana', 0.6272777318954468)]\n",
      "\n",
      "Word2vec: [('jubarte', 0.8060449361801147), ('albacora', 0.804984450340271), ('espadarte', 0.7876015901565552), ('barracuda', 0.7818177938461304), ('roncador', 0.7790510654449463), ('pampo', 0.7581204771995544), ('garoupa', 0.729506254196167), ('sapinhoa', 0.7259397506713867), ('marimba', 0.7251688241958618), ('enchova', 0.716850996017456)]\n",
      "\n",
      "FastText: [('pcmarlim', 0.9010512828826904), ('albacora', 0.8385098576545715), ('marllm', 0.8260014057159424), ('bacora', 0.7853546142578125), ('garoupa', 0.7579705119132996), ('jubarte', 0.7564741373062134), ('marlini', 0.7545282244682312), ('marlize', 0.746731162071228), ('marimba', 0.7345959544181824), ('marl', 0.7328228950500488)]\n",
      "\n",
      "Glove: [('albacora', 0.7255210876464844), ('barracuda', 0.6945388317108154), ('moreia', 0.6429729461669922), ('jubarte', 0.6322823166847229), ('roncador', 0.6100524663925171), ('marimba', 0.6094343662261963), ('ssao', 0.5978552103042603), ('itapu', 0.5699419379234314), ('tldbms', 0.569850742816925), ('caratinga', 0.5259542465209961)]\n"
     ]
    }
   ],
   "source": [
    "print(\"Word2vec NILC:\", word2vecUSP.most_similar(\"marlim\"))\n",
    "print(\"\\nWord2vec:\", word2vec.most_similar(\"marlim\"))\n",
    "print(\"\\nFastText:\", fasttext.most_similar(\"marlim\"))\n",
    "print(\"\\nGlove:\", glove.most_similar(\"marlim\"))"
   ]
  },
  {
   "cell_type": "code",
   "execution_count": 11,
   "metadata": {},
   "outputs": [
    {
     "name": "stdout",
     "output_type": "stream",
     "text": [
      "Word2vec NILC: [('ribeiro', 0.8579843640327454), ('alves', 0.8572738170623779), ('moreira', 0.8442287445068359), ('nunes', 0.8384348154067993), ('moura', 0.8350167274475098), ('martins', 0.8322890996932983), ('rodrigues', 0.8301119804382324), ('fonseca', 0.8294161558151245), ('barbosa', 0.8291260600090027), ('vieira', 0.8289682865142822)]\n",
      "\n",
      "Word2vec: [('porosidade', 0.6483051776885986), ('geradora', 0.6321163773536682), ('porosa', 0.6174684166908264), ('reservatorio', 0.6059345006942749), ('rochas', 0.5808694362640381), ('poroso', 0.5754362344741821), ('selante', 0.5722160339355469), ('rochareservatorio', 0.5665265321731567), ('permeabilidade', 0.5658148527145386), ('poro', 0.5536726713180542)]\n",
      "\n",
      "FastText: [('rochamatriz', 0.7831390500068665), ('oleorocha', 0.7787681818008423), ('rochafonte', 0.7376151084899902), ('ocha', 0.7241356372833252), ('laderocha', 0.7188540697097778), ('rochosa', 0.7126851677894592), ('roch', 0.7088947892189026), ('rochasre', 0.6747407913208008), ('rochas', 0.6744641065597534), ('rochareservatorio', 0.6720250844955444)]\n",
      "\n",
      "Glove: [('catole', 0.7703311443328857), ('ldalina', 0.6646495461463928), ('porosidade', 0.6251285076141357), ('maronna', 0.6157158613204956), ('parental', 0.6044762134552002), ('encaixante', 0.6038857698440552), ('poroso', 0.6031336188316345), ('ignimbritica', 0.6005433797836304), ('idalina', 0.5989927649497986), ('sedimento', 0.5950610041618347)]\n"
     ]
    }
   ],
   "source": [
    "print(\"Word2vec NILC:\", word2vecUSP.most_similar(\"rocha\"))\n",
    "print(\"\\nWord2vec:\", word2vec.most_similar(\"rocha\"))\n",
    "print(\"\\nFastText:\", fasttext.most_similar(\"rocha\"))\n",
    "print(\"\\nGlove:\", glove.most_similar(\"rocha\"))"
   ]
  },
  {
   "cell_type": "code",
   "execution_count": 12,
   "metadata": {},
   "outputs": [
    {
     "name": "stdout",
     "output_type": "stream",
     "text": [
      "Word2vec NILC: [('pane', 0.7323965430259705), ('avaria', 0.7296549677848816), ('desatenção', 0.6949218511581421), ('sobrecarga', 0.6827185750007629), ('lesão', 0.6825332045555115), ('anormalidade', 0.6818250417709351), ('rotura', 0.6571635007858276), ('contusão', 0.646399974822998), ('contractura', 0.6305397748947144), ('explosão', 0.6268401145935059)]\n",
      "\n",
      "Word2vec: [('falhas', 0.7756597995758057), ('falhamento', 0.7287871837615967), ('alinhamento', 0.7184860706329346), ('transcorrente', 0.6923573017120361), ('descontinuidade', 0.6664091348648071), ('mergulho', 0.6602179408073425), ('distensao', 0.6526477932929993), ('anticlinal', 0.651134192943573), ('falhamentos', 0.6427754163742065), ('dobra', 0.6420486569404602)]\n",
      "\n",
      "FastText: [('falh', 0.9012061953544617), ('falhas', 0.8672528266906738), ('falhada', 0.865623414516449), ('falhado', 0.8469730019569397), ('falham', 0.8223832249641418), ('falhamento', 0.817365288734436), ('falhar', 0.7917413711547852), ('falho', 0.7863675355911255), ('falhamen', 0.7817728519439697), ('fal\\xad', 0.7609578967094421)]\n",
      "\n",
      "Glove: [('falhas', 0.7298002243041992), ('matacatu', 0.6232907772064209), ('maragogipe', 0.6117200255393982), ('perimbo', 0.6014580726623535), ('borda', 0.5703529119491577), ('direcao', 0.5673009753227234), ('antitetica', 0.5638421177864075), ('zona', 0.5602726936340332), ('tricomites', 0.552514910697937), ('carnaubais', 0.5453788042068481)]\n"
     ]
    }
   ],
   "source": [
    "print(\"Word2vec NILC:\", word2vecUSP.most_similar(\"falha\"))\n",
    "print(\"\\nWord2vec:\", word2vec.most_similar(\"falha\"))\n",
    "print(\"\\nFastText:\", fasttext.most_similar(\"falha\"))\n",
    "print(\"\\nGlove:\", glove.most_similar(\"falha\"))"
   ]
  },
  {
   "cell_type": "code",
   "execution_count": 14,
   "metadata": {},
   "outputs": [
    {
     "name": "stdout",
     "output_type": "stream",
     "text": [
      "Word2vec NILC: [('viscosidade', 0.8751147985458374), ('permeabilidade', 0.8751037120819092), ('intergranular', 0.8604530096054077), ('solubilidade', 0.8395620584487915), ('refletividade', 0.8381984233856201), ('condutância', 0.8332516551017761), ('rugosidade', 0.8273875713348389), ('emissividade', 0.8257325887680054), ('condutividade', 0.8229839205741882), ('volatilização', 0.8149848580360413)]\n",
      "\n",
      "Word2vec: [('permeabilidade', 0.854008674621582), ('permea', 0.6565119028091431), ('rocha', 0.6483052372932434), ('poro', 0.6409624814987183), ('permoporosidade', 0.6245139837265015), ('gargantas', 0.621246337890625), ('saturacao', 0.6051387190818787), ('poros', 0.604487419128418), ('argilosidade', 0.6021685600280762), ('molhabilidade', 0.6008758544921875)]\n",
      "\n",
      "FastText: [('porosida', 0.9455100297927856), ('croporosidade', 0.9359903335571289), ('deporosidade', 0.935187578201294), ('permoporosidade', 0.923521876335144), ('macroporosidade', 0.904816746711731), ('porosidades', 0.899235725402832), ('rosidade', 0.8973575830459595), ('porosi', 0.8943686485290527), ('microporosidade', 0.8924039006233215), ('porosa', 0.7876506447792053)]\n",
      "\n",
      "Glove: [('permeabilidade', 0.7922776937484741), ('rocha', 0.6251285672187805), ('reservatorio', 0.5965573787689209), ('moldica', 0.594086229801178), ('saturacao', 0.5782444477081299), ('intragranular', 0.5663397312164307), ('poroso', 0.5637535452842712), ('permeabili', 0.5583644509315491), ('relativa', 0.5544126033782959), ('diagenese', 0.5517241954803467)]\n"
     ]
    }
   ],
   "source": [
    "print(\"Word2vec NILC:\", word2vecUSP.most_similar(\"porosidade\"))\n",
    "print(\"\\nWord2vec:\", word2vec.most_similar(\"porosidade\"))\n",
    "print(\"\\nFastText:\", fasttext.most_similar(\"porosidade\"))\n",
    "print(\"\\nGlove:\", glove.most_similar(\"porosidade\"))"
   ]
  },
  {
   "cell_type": "code",
   "execution_count": 17,
   "metadata": {},
   "outputs": [
    {
     "name": "stdout",
     "output_type": "stream",
     "text": [
      "Word2vec NILC: [('porosidade', 0.875103771686554), ('osmótica', 0.8347310423851013), ('viscosidade', 0.8092826008796692), ('resistividade', 0.8041014075279236), ('rugosidade', 0.7999212741851807), ('reatividade', 0.7952103614807129), ('refletividade', 0.7924594879150391), ('depleção', 0.791877031326294), ('mineralização', 0.790542721748352), ('acidez', 0.7886911630630493)]\n",
      "\n",
      "Word2vec: [('porosidade', 0.854008674621582), ('saturacao', 0.6888558268547058), ('resistividade', 0.6672393083572388), ('permea', 0.642139732837677), ('densidade', 0.6406126022338867), ('transmissibilidade', 0.6325589418411255), ('viscosidade', 0.6265305876731873), ('meabilidade', 0.6241852045059204), ('permoporosidade', 0.6181216239929199), ('solubilidade', 0.6168723106384277)]\n",
      "\n",
      "FastText: [('permeabilida', 0.971298098564148), ('impermeabilidade', 0.9711483716964722), ('meabilidade', 0.9575842618942261), ('permeabilidades', 0.9387856721878052), ('permeabili', 0.9261080026626587), ('penneabilidade', 0.9129568934440613), ('permeabi', 0.8788479566574097), ('meabilidades', 0.8631640672683716), ('permeancia', 0.8409357070922852), ('permeabillty', 0.8260838389396667)]\n",
      "\n",
      "Glove: [('porosidade', 0.7922775745391846), ('saturacao', 0.6171507835388184), ('relativa', 0.6109196543693542), ('reservatorio', 0.5798909068107605), ('poroso', 0.5754102468490601), ('solubilidade', 0.5700403451919556), ('baixa', 0.5646684169769287), ('entradastotal', 0.5560261607170105), ('socialcoleta', 0.5542765855789185), ('meabilidade', 0.5491174459457397)]\n"
     ]
    }
   ],
   "source": [
    "print(\"Word2vec NILC:\", word2vecUSP.most_similar(\"permeabilidade\"))\n",
    "print(\"\\nWord2vec:\", word2vec.most_similar(\"permeabilidade\"))\n",
    "print(\"\\nFastText:\", fasttext.most_similar(\"permeabilidade\"))\n",
    "print(\"\\nGlove:\", glove.most_similar(\"permeabilidade\"))"
   ]
  },
  {
   "cell_type": "code",
   "execution_count": 15,
   "metadata": {},
   "outputs": [
    {
     "name": "stdout",
     "output_type": "stream",
     "text": [
      "Word2vec NILC: [('tubo', 0.7883882522583008), ('aquecedor', 0.7665469646453857), ('orifício', 0.7495757341384888), ('dreno', 0.7383479475975037), ('invólucro', 0.7279610633850098), ('perilinfático', 0.7198584079742432), ('condensador', 0.7162137627601624), ('queimador', 0.7109122276306152), ('biodigestor', 0.7101795673370361), ('filtro', 0.7082540988922119)]\n",
      "\n",
      "Word2vec: [('oleoduto', 0.7494122385978699), ('tubulacao', 0.7053335905075073), ('cilindro', 0.6972729563713074), ('teto', 0.6835826635360718), ('mangote', 0.6748379468917847), ('conexao', 0.6721242666244507), ('trecho', 0.6682225465774536), ('costado', 0.6596956849098206), ('peca', 0.6594600677490234), ('navio', 0.649324357509613)]\n",
      "\n",
      "FastText: [('oleoduto', 0.7655988931655884), ('dutor', 0.7539535760879517), ('dut', 0.7421387434005737), ('dutos', 0.7352097034454346), ('gasoduto', 0.7044280767440796), ('percurso', 0.6811615824699402), ('conduto', 0.6803457736968994), ('adutora', 0.6674494743347168), ('gasodutos', 0.6471125483512878), ('tubulacao', 0.6451340317726135)]\n",
      "\n",
      "Glove: [('trecho', 0.6565864682197571), ('dutos', 0.6081947088241577), ('gasup', 0.5912977457046509), ('diametro', 0.5510315895080566), ('biapoiado', 0.5453758239746094), ('defeito', 0.5433015823364258), ('tubulacao', 0.5300867557525635), ('trechos', 0.5287328958511353), ('interno', 0.5271964073181152), ('biengastado', 0.5239615440368652)]\n"
     ]
    }
   ],
   "source": [
    "print(\"Word2vec NILC:\", word2vecUSP.most_similar(\"duto\"))\n",
    "print(\"\\nWord2vec:\", word2vec.most_similar(\"duto\"))\n",
    "print(\"\\nFastText:\", fasttext.most_similar(\"duto\"))\n",
    "print(\"\\nGlove:\", glove.most_similar(\"duto\"))"
   ]
  },
  {
   "cell_type": "code",
   "execution_count": 19,
   "metadata": {},
   "outputs": [
    {
     "name": "stdout",
     "output_type": "stream",
     "text": [
      "Word2vec NILC: [('transformação', 0.7882969379425049), ('produ-ção', 0.7719315886497498), ('pro-dução', 0.7597677707672119), ('moagem', 0.7565052509307861), ('manufatura', 0.7472463846206665), ('refinação', 0.7435416579246521), ('indústria', 0.7364366054534912), ('matéria-prima', 0.7283850908279419), ('extração', 0.7272541522979736), ('maquinaria', 0.7256031036376953)]\n",
      "\n",
      "Word2vec: [('produzido', 0.5839728713035583), ('extracao', 0.578385591506958), ('produ', 0.5767145156860352), ('ducao', 0.5620613098144531), ('refino', 0.5413150191307068), ('oferta', 0.5396562814712524), ('produtividade', 0.5383867025375366), ('recuperacao', 0.5371707677841187), ('produzir', 0.5345604419708252), ('demanda', 0.5339513421058655)]\n",
      "\n",
      "FastText: [('roducao', 0.8734534978866577), ('produca', 0.8575465679168701), ('oducao', 0.8571399450302124), ('poducao', 0.8322707414627075), ('produao', 0.8285330533981323), ('produgao', 0.8209911584854126), ('produco', 0.8207317590713501), ('troducao', 0.7743117809295654), ('prodlcao', 0.7647579908370972), ('ducao', 0.7519650459289551)]\n",
      "\n",
      "Glove: [('fabricaquimica', 0.6956173181533813), ('eternal', 0.6747087240219116), ('exploracao', 0.6527308821678162), ('petroleo', 0.652143120765686), ('ecoscientia', 0.6502993106842041), ('\\x14\\x17\\x10\\x11\\x15', 0.6163680553436279), ('t\\uf040ano\\uf044', 0.6068476438522339), ('consumo', 0.5924985408782959), ('produzido', 0.5920986533164978), ('alem', 0.5881767868995667)]\n"
     ]
    }
   ],
   "source": [
    "print(\"Word2vec NILC:\", word2vecUSP.most_similar(\"produção\"))\n",
    "print(\"\\nWord2vec:\", word2vec.most_similar(\"producao\"))\n",
    "print(\"\\nFastText:\", fasttext.most_similar(\"producao\"))\n",
    "print(\"\\nGlove:\", glove.most_similar(\"producao\"))"
   ]
  },
  {
   "cell_type": "code",
   "execution_count": 20,
   "metadata": {},
   "outputs": [
    {
     "name": "stdout",
     "output_type": "stream",
     "text": [
      "Word2vec NILC: [('sabão', 0.8018382787704468), ('alcatrão', 0.7912071347236633), ('alumínio', 0.7832009196281433), ('parafina', 0.7790289521217346), ('talco', 0.7778617143630981), ('detergente', 0.7705657482147217), ('acrílico', 0.7700256109237671), ('destilado', 0.7698361873626709), ('estanho', 0.7693232893943787), ('resina', 0.7692031860351562)]\n",
      "\n",
      "Word2vec: [('petroleo', 0.5832805633544922), ('vazar', 0.5142987966537476), ('liquido', 0.5123260021209717), ('gasoleo', 0.4973598122596741), ('leve', 0.4695000946521759), ('hidrocarbonetos', 0.4694518446922302), ('oleos', 0.4680246114730835), ('solvente', 0.4482572674751282), ('fluido', 0.4469138979911804), ('condensado', 0.4374510645866394)]\n",
      "\n",
      "FastText: [('oleo·', 0.8421707153320312), ('gasoleo', 0.7459371089935303), ('dleo', 0.7279999256134033), ('soleo', 0.7270667552947998), ('roleo', 0.7083748579025269), ('oleosa', 0.7065879702568054), ('oleoso', 0.7023625373840332), ('aguaoleo', 0.6993290781974792), ('petloleo', 0.6962217688560486), ('oleoagua', 0.6903935670852661)]\n",
      "\n",
      "Glove: [('agua', 0.6877912282943726), ('naboforrageiro', 0.6755478978157043), ('qualificacaoagentesimportadores', 0.6598918437957764), ('diesel', 0.6023977398872375), ('sulbrasil', 0.5943512320518494), ('saidastotal', 0.590653121471405), ('\\x19\\x18\\x0e\\x05', 0.5904985070228577), ('enquanto', 0.5899069905281067), ('oleos', 0.5877017974853516), ('volume', 0.5841364860534668)]\n"
     ]
    }
   ],
   "source": [
    "print(\"Word2vec NILC:\", word2vecUSP.most_similar(\"óleo\"))\n",
    "print(\"\\nWord2vec:\", word2vec.most_similar(\"oleo\"))\n",
    "print(\"\\nFastText:\", fasttext.most_similar(\"oleo\"))\n",
    "print(\"\\nGlove:\", glove.most_similar(\"oleo\"))"
   ]
  },
  {
   "cell_type": "code",
   "execution_count": 21,
   "metadata": {},
   "outputs": [
    {
     "name": "stdout",
     "output_type": "stream",
     "text": [
      "Word2vec NILC: [('injecção', 0.7902493476867676), ('turbina', 0.70037841796875), ('multiponto', 0.6960639953613281), ('solda', 0.6773992776870728), ('sucção', 0.667153537273407), ('monoponto', 0.6667495965957642), ('válvula', 0.6628192663192749), ('cardioversão', 0.6575825214385986), ('freagem', 0.6492478847503662), ('intramuscular', 0.646113395690918)]\n",
      "\n",
      "Word2vec: [('injetar', 0.6536950469017029), ('miscivel', 0.6511914730072021), ('influxo', 0.637003481388092), ('recuperacao', 0.6218339204788208), ('pressurizacao', 0.6123685836791992), ('surgencia', 0.5671038627624512), ('lavagem', 0.5593487620353699), ('vazao', 0.5501174926757812), ('injetado', 0.5434067249298096), ('intermitente', 0.5400745868682861)]\n",
      "\n",
      "FastText: [('njecao', 0.9090081453323364), ('inje', 0.8635266423225403), ('reinjecao', 0.8599252700805664), ('injeta', 0.8365617990493774), ('injetora', 0.8123322129249573), ('injetase', 0.7862617373466492), ('injetado', 0.7838533520698547), ('jecao', 0.7775653004646301), ('injetada', 0.7747783660888672), ('injetar', 0.7730657458305359)]\n",
      "\n",
      "Glove: [('recuperacao', 0.7102307081222534), ('agua', 0.6990650296211243), ('injetada', 0.644719123840332), ('vapor', 0.6359990835189819), ('ftu', 0.6208605766296387), ('reservatorio', 0.5981217622756958), ('injetado', 0.5946066379547119), ('pocos', 0.5679056644439697), ('fluidos', 0.5570815801620483), ('produzida', 0.5529428124427795)]\n"
     ]
    }
   ],
   "source": [
    "print(\"Word2vec NILC:\", word2vecUSP.most_similar(\"injeção\"))\n",
    "print(\"\\nWord2vec:\", word2vec.most_similar(\"injecao\"))\n",
    "print(\"\\nFastText:\", fasttext.most_similar(\"injecao\"))\n",
    "print(\"\\nGlove:\", glove.most_similar(\"injecao\"))"
   ]
  },
  {
   "cell_type": "code",
   "execution_count": 22,
   "metadata": {},
   "outputs": [
    {
     "name": "stdout",
     "output_type": "stream",
     "text": [
      "Word2vec NILC: [('defying', 0.8181011080741882), ('remorse', 0.805025577545166), ('disciple', 0.799048900604248), ('sacrifice', 0.7904894351959229), ('yoake', 0.7902454733848572), ('salvation', 0.7876761555671692), ('retribution', 0.786260724067688), ('reverend', 0.7860695719718933), ('sweetness', 0.7852410674095154), ('ascending', 0.7838122844696045)]\n",
      "\n",
      "Word2vec: [('succao', 0.8402446508407593), ('bypass', 0.8333839178085327), ('valvula', 0.7852400541305542), ('bop', 0.7771759033203125), ('vent', 0.7699934840202332), ('dreno', 0.7672243714332581), ('pressurizado', 0.744775652885437), ('valve', 0.7443244457244873), ('desarenador', 0.7426056861877441), ('camisa', 0.7425185441970825)]\n",
      "\n",
      "FastText: [('yoke', 0.812288761138916), ('steamout', 0.7816600799560547), ('bop', 0.7811552286148071), ('pumpout', 0.7803129553794861), ('blowoff', 0.7751410007476807), ('blowout', 0.774747371673584), ('psv', 0.7729789018630981), ('manifold', 0.7722301483154297), ('torchoil', 0.763440728187561), ('gaslift', 0.7598773241043091)]\n",
      "\n",
      "Glove: [('valvula', 0.7002956867218018), ('kill', 0.6668517589569092), ('valvulas', 0.5451041460037231), ('manipulating', 0.531997799873352), ('bloqueio', 0.5309855341911316), ('estrangulador', 0.5218823552131653), ('naopermeado', 0.5205661058425903), ('reverso', 0.516505241394043), ('abertura', 0.49340322613716125), ('sealink', 0.4928184747695923)]\n"
     ]
    }
   ],
   "source": [
    "print(\"Word2vec NILC:\", word2vecUSP.most_similar(\"choke\"))\n",
    "print(\"\\nWord2vec:\", word2vec.most_similar(\"choke\"))\n",
    "print(\"\\nFastText:\", fasttext.most_similar(\"choke\"))\n",
    "print(\"\\nGlove:\", glove.most_similar(\"choke\"))"
   ]
  },
  {
   "cell_type": "code",
   "execution_count": 6,
   "metadata": {},
   "outputs": [
    {
     "name": "stdout",
     "output_type": "stream",
     "text": [
      "Word2vec NILC: [('planta', 0.7424979209899902), ('trepadeira', 0.7204598188400269), ('fenda', 0.7190979719161987), ('sebe', 0.7147777080535889), ('frondosa', 0.7128682136535645), ('lagarta', 0.7052898406982422), ('machadinha', 0.7045701146125793), ('caverna', 0.704456090927124), ('viga', 0.6999456882476807), ('engenhoca', 0.6971316337585449)]\n",
      "\n",
      "Word2vec: [('anm', 0.7353466749191284), ('semisubmersivel', 0.6779547333717346), ('anmh', 0.6767923831939697), ('submarina', 0.6722034215927124), ('embarcacao', 0.6577032804489136), ('molhada', 0.6460171341896057), ('submarino', 0.6349464654922485), ('jaqueta', 0.6148648858070374), ('conexao', 0.6119815111160278), ('guincho', 0.5998473167419434)]\n",
      "\n",
      "FastText: [('arvoredenatal', 0.8849482536315918), ('arvores', 0.8056397438049316), ('sbm', 0.7249352931976318), ('camisa', 0.7055619955062866), ('canhoneio', 0.6958752870559692), ('injetora', 0.6955007910728455), ('semisubmersivel', 0.6951661705970764), ('canhoneada', 0.6871408820152283), ('canhoneios', 0.6870874166488647), ('embarcacaoguindaste', 0.6840304732322693)]\n",
      "\n",
      "Glove: [('natal', 0.541642427444458), ('molhada', 0.5003840923309326), ('tree', 0.47550779581069946), ('binomial', 0.47362539172172546), ('feliz', 0.44150999188423157), ('derivacao', 0.4290717840194702), ('folhosa', 0.4285508990287781), ('arvores', 0.42603904008865356), ('falha', 0.4211423695087433), ('anm', 0.41942572593688965)]\n"
     ]
    }
   ],
   "source": [
    "print(\"Word2vec NILC:\", word2vecUSP.most_similar(\"árvore\"))\n",
    "print(\"\\nWord2vec:\", word2vec.most_similar(\"arvore\"))\n",
    "print(\"\\nFastText:\", fasttext.most_similar(\"arvore\"))\n",
    "print(\"\\nGlove:\", glove.most_similar(\"arvore\"))"
   ]
  },
  {
   "cell_type": "code",
   "execution_count": 27,
   "metadata": {},
   "outputs": [
    {
     "name": "stdout",
     "output_type": "stream",
     "text": [
      "Word2vec NILC: [('throughput', 0.7696739435195923), ('hsdpa', 0.7595765590667725), ('m0m', 0.7448002696037292), ('excell', 0.7290375232696533), ('downlink', 0.7245384454727173), ('gprs', 0.7243173122406006), ('tcs', 0.7239657640457153), ('cdma', 0.7190552949905396), ('atm', 0.7127512693405151), ('modens', 0.7121529579162598)]\n",
      "\n",
      "Word2vec: [('upstream', 0.832208514213562), ('midstream', 0.6183797717094421), ('refino', 0.6031719446182251), ('comercializacao', 0.5916368961334229), ('e&p', 0.5847318172454834), ('gevo', 0.571739912033081), ('industrial', 0.5699276924133301), ('refinacao', 0.5653485059738159), ('unbundling', 0.5604392290115356), ('ventures', 0.5567135214805603)]\n",
      "\n",
      "FastText: [('upstream', 0.924528181552887), ('stream', 0.860160231590271), ('streamer', 0.7337270975112915), ('streams', 0.7174285054206848), ('industries', 0.70155930519104), ('safe', 0.688924252986908), ('strategies', 0.6879031658172607), ('producers', 0.6847964525222778), ('streamline', 0.6793714165687561), ('treat', 0.6761770248413086)]\n",
      "\n",
      "Glove: [('upstream', 0.6943451166152954), ('midstream', 0.6875960826873779), ('potentials', 0.5856586694717407), ('extrusao', 0.4500958025455475), ('adim', 0.447873055934906), ('instruidos', 0.4332467317581177), ('dnstream', 0.41141945123672485), ('metabolica', 0.40861400961875916), ('harp', 0.4071609079837799), ('daiana', 0.3993920087814331)]\n"
     ]
    }
   ],
   "source": [
    "print(\"Word2vec NILC:\", word2vecUSP.most_similar(\"downstream\"))\n",
    "print(\"\\nWord2vec:\", word2vec.most_similar(\"downstream\"))\n",
    "print(\"\\nFastText:\", fasttext.most_similar(\"downstream\"))\n",
    "print(\"\\nGlove:\", glove.most_similar(\"downstream\"))"
   ]
  },
  {
   "cell_type": "code",
   "execution_count": 28,
   "metadata": {},
   "outputs": [
    {
     "name": "stdout",
     "output_type": "stream",
     "text": [
      "Word2vec NILC: [('irritabilidade', 0.8587068319320679), ('sonolência', 0.8565237522125244), ('salivação', 0.8497347831726074), ('fatiga', 0.8483119606971741), ('náusea', 0.8358381390571594), ('sudorese', 0.8302321434020996), ('tontura', 0.8228416442871094), ('dor', 0.8193362951278687), ('dispnéia', 0.8150168657302856), ('parestesia', 0.8110064268112183)]\n",
      "\n",
      "Word2vec: [('flexao', 0.710971474647522), ('tenacidade', 0.6793889999389648), ('desgaste', 0.6774712204933167), ('viv', 0.66217041015625), ('tracao', 0.6592828035354614), ('fluencia', 0.6429747939109802), ('fragil', 0.6389991044998169), ('pretrincas', 0.6370344758033752), ('torcao', 0.6263822317123413), ('fratura', 0.6244834065437317)]\n",
      "\n",
      "FastText: [('diga', 0.7536585927009583), ('trincas', 0.7485107183456421), ('viga', 0.7368307113647461), ('trincamento', 0.7203872203826904), ('trinca', 0.7157888412475586), ('tenacidade', 0.7114024758338928), ('tena', 0.7092761397361755), ('jaqueta', 0.7090405225753784), ('defeitos', 0.7047402262687683), ('trincada', 0.6972804069519043)]\n",
      "\n",
      "Glove: [('pretrincas', 0.5627127885818481), ('util', 0.5480526089668274), ('vida', 0.5444972515106201), ('alises', 0.5306997299194336), ('pretrinca', 0.5209112167358398), ('extremos', 0.5052244663238525), ('trincas', 0.5004202723503113), ('alise', 0.4852806627750397), ('resistˆencia', 0.4763178825378418), ('dano', 0.4745638966560364)]\n"
     ]
    }
   ],
   "source": [
    "print(\"Word2vec NILC:\", word2vecUSP.most_similar(\"fadiga\"))\n",
    "print(\"\\nWord2vec:\", word2vec.most_similar(\"fadiga\"))\n",
    "print(\"\\nFastText:\", fasttext.most_similar(\"fadiga\"))\n",
    "print(\"\\nGlove:\", glove.most_similar(\"fadiga\"))"
   ]
  },
  {
   "cell_type": "code",
   "execution_count": 29,
   "metadata": {},
   "outputs": [
    {
     "name": "stdout",
     "output_type": "stream",
     "text": [
      "Word2vec NILC: [('nbs', 0.7549852132797241), ('ftc', 0.7517836093902588), ('cmc', 0.7200515866279602), ('csf', 0.7159147262573242), ('fcb', 0.7050918340682983), ('presse-agentur', 0.7030600309371948), ('cbi', 0.7004081010818481), ('ucb', 0.6995081901550293), ('nsf', 0.6956804394721985), ('fetranspor', 0.6920913457870483)]\n",
      "\n",
      "Word2vec: [('craqueo', 0.8747745752334595), ('reformacao', 0.819656491279602), ('retardado', 0.8188409209251404), ('coqueamento', 0.8165943622589111), ('hdt', 0.807729959487915), ('catalitico', 0.803515613079071), ('hidrotratamento', 0.8034471273422241), ('catai', 0.7898483276367188), ('claus', 0.7827790975570679), ('queamento', 0.7740711569786072)]\n",
      "\n",
      "FastText: [('fccu', 0.8341749906539917), ('ufcc', 0.7888831496238708), ('«cracking»', 0.763396143913269), ('craqueamen', 0.7438149452209473), ('cracking', 0.7406303882598877), ('catalitico', 0.7398610711097717), ('coqueamen', 0.733208179473877), ('hdt', 0.7324680089950562), ('craqueamento', 0.7262346744537354), ('craquear', 0.7224942445755005)]\n",
      "\n",
      "Glove: [('catalitico', 0.6685124635696411), ('craqueador', 0.6314496994018555), ('craqueamento', 0.6312029361724854), ('delayed', 0.5802092552185059), ('downflow', 0.5487841367721558), ('coking', 0.5423670411109924), ('gasoleo', 0.5294241309165955), ('hidrotratamento', 0.5257688760757446), ('cracking', 0.5181552171707153), ('unidade', 0.5145649909973145)]\n"
     ]
    }
   ],
   "source": [
    "print(\"Word2vec NILC:\", word2vecUSP.most_similar(\"fcc\"))\n",
    "print(\"\\nWord2vec:\", word2vec.most_similar(\"fcc\"))\n",
    "print(\"\\nFastText:\", fasttext.most_similar(\"fcc\"))\n",
    "print(\"\\nGlove:\", glove.most_similar(\"fcc\"))"
   ]
  },
  {
   "cell_type": "code",
   "execution_count": 30,
   "metadata": {},
   "outputs": [
    {
     "name": "stdout",
     "output_type": "stream",
     "text": [
      "Word2vec NILC: [('helix', 0.7546678185462952), ('lfo', 0.7520355582237244), ('cymbals', 0.7370127439498901), ('photometer', 0.7326635122299194), ('griphon', 0.7316590547561646), ('injection', 0.7299726009368896), ('middeck', 0.7283167243003845), ('proximity', 0.7228338718414307), ('desesperation', 0.7226127982139587), ('anisotropy', 0.7220712900161743)]\n",
      "\n",
      "Word2vec: [('shutdown', 0.7836253643035889), ('downhole', 0.7720301747322083), ('turbines', 0.7606686353683472), ('despressurizar', 0.7603545188903809), ('turbine', 0.7582780122756958), ('storage', 0.7490205764770508), ('kill', 0.7460760474205017), ('lifting', 0.7458934783935547), ('pump', 0.7441544532775879), ('supply', 0.7388085722923279)]\n",
      "\n",
      "FastText: [('fiare', 0.7293419241905212), ('pipeline', 0.6927585601806641), ('pipelines', 0.6801968812942505), ('skid', 0.6758668422698975), ('flac', 0.674859881401062), ('flambar', 0.6746658086776733), ('storage', 0.6745978593826294), ('pipe', 0.6637853980064392), ('bare', 0.6633081436157227), ('fla', 0.6534755825996399)]\n",
      "\n",
      "Glove: [('compressor', 0.4431230425834656), ('preparativa', 0.4361635744571686), ('fmedida', 0.43494489789009094), ('jumper', 0.43368247151374817), ('equipamento', 0.4335639774799347), ('desafericao', 0.43233656883239746), ('queimado', 0.42955660820007324), ('turbina', 0.4235512316226959), ('ruska', 0.41819971799850464), ('\\uf038pb', 0.41287726163864136)]\n"
     ]
    }
   ],
   "source": [
    "print(\"Word2vec NILC:\", word2vecUSP.most_similar(\"flare\"))\n",
    "print(\"\\nWord2vec:\", word2vec.most_similar(\"flare\"))\n",
    "print(\"\\nFastText:\", fasttext.most_similar(\"flare\"))\n",
    "print(\"\\nGlove:\", glove.most_similar(\"flare\"))"
   ]
  },
  {
   "cell_type": "code",
   "execution_count": 31,
   "metadata": {},
   "outputs": [
    {
     "name": "stdout",
     "output_type": "stream",
     "text": [
      "Word2vec NILC: [('cfd', 0.7080005407333374), ('nsf', 0.6909165382385254), ('nist', 0.6814672946929932), ('slac', 0.6585798859596252), ('omf', 0.6563538312911987), ('r&d', 0.6485943794250488), ('lse', 0.6442476511001587), ('lcs', 0.6409286260604858), ('nesd', 0.635434627532959), ('semiempíricos', 0.6311728954315186)]\n",
      "\n",
      "Word2vec: [('bcss', 0.8809734582901001), ('centrifugo', 0.8043990135192871), ('equipado', 0.7799692749977112), ('bombeamento', 0.7784360647201538), ('acionamento', 0.7771061062812805), ('centrifuga', 0.7611485719680786), ('conectado', 0.7504128217697144), ('pneumatico', 0.7448064088821411), ('bombeio', 0.7335752248764038), ('compressores', 0.7326668500900269)]\n",
      "\n",
      "FastText: [('bcd', 0.818642258644104), ('iocs', 0.8125195503234863), ('dcs', 0.8101841807365417), ('aocs', 0.8068770170211792), ('acs', 0.7923147082328796), ('chromatography', 0.7828336954116821), ('ncs', 0.777473509311676), ('ics', 0.7765034437179565), ('chromatographic', 0.7726981043815613), ('lpg', 0.770279586315155)]\n",
      "\n",
      "Glove: [('bombeio', 0.597203254699707), ('centrifugo', 0.5823516249656677), ('submerso', 0.5796347260475159), ('bomba', 0.5527651906013489), ('artificial', 0.5463113784790039), ('oleocp', 0.519835352897644), ('bombaa', 0.49366456270217896), ('encapsulado', 0.4898208677768707), ('submersivel', 0.4813937544822693), ('mecanico', 0.4525632858276367)]\n"
     ]
    }
   ],
   "source": [
    "print(\"Word2vec NILC:\", word2vecUSP.most_similar(\"bcs\"))\n",
    "print(\"\\nWord2vec:\", word2vec.most_similar(\"bcs\"))\n",
    "print(\"\\nFastText:\", fasttext.most_similar(\"bcs\"))\n",
    "print(\"\\nGlove:\", glove.most_similar(\"bcs\"))"
   ]
  },
  {
   "cell_type": "code",
   "execution_count": 32,
   "metadata": {},
   "outputs": [
    {
     "name": "stdout",
     "output_type": "stream",
     "text": [
      "Word2vec NILC: [('cabiúnas', 0.7249191999435425), ('angiquinho', 0.7072624564170837), ('bratsk', 0.7023249268531799), ('itaipú', 0.6885374188423157), ('fpti', 0.6856544017791748), ('rebaixadora', 0.6842848062515259), ('valdeorras', 0.6820859909057617), ('guamaré', 0.6770935654640198), ('urucu', 0.6763034462928772), ('capivari-cachoeira', 0.6755625009536743)]\n",
      "\n",
      "Word2vec: [('offloading', 0.7887411117553711), ('manifold', 0.7792885303497314), ('submarino', 0.7669863700866699), ('sbm', 0.727504312992096), ('semisubmersivel', 0.7216984033584595), ('psv', 0.708039402961731), ('navio', 0.7036250233650208), ('conves', 0.7000065445899963), ('petroleiro', 0.6967252492904663), ('naviosonda', 0.6952481865882874)]\n",
      "\n",
      "FastText: [('lapso', 0.8282498717308044), ('pso', 0.8018620610237122), ('colapso', 0.7132961750030518), ('defasado', 0.7092471122741699), ('fcbs', 0.6727789044380188), ('avariado', 0.6698141694068909), ('caimento', 0.6697458028793335), ('·l', 0.6697041988372803), ('gipso', 0.6679891347885132), ('$e', 0.6677343845367432)]\n",
      "\n",
      "Glove: [('floating', 0.6178653836250305), ('offloading', 0.5466172099113464), ('navio', 0.5289924144744873), ('itaguai', 0.5060564279556274), ('mangaratiba', 0.4816594123840332), ('fpsos', 0.4746512770652771), ('oilseed', 0.4642745852470398), ('navios', 0.4404171407222748), ('seillean', 0.43328389525413513), ('storage', 0.4264105558395386)]\n"
     ]
    }
   ],
   "source": [
    "print(\"Word2vec NILC:\", word2vecUSP.most_similar(\"fpso\"))\n",
    "print(\"\\nWord2vec:\", word2vec.most_similar(\"fpso\"))\n",
    "print(\"\\nFastText:\", fasttext.most_similar(\"fpso\"))\n",
    "print(\"\\nGlove:\", glove.most_similar(\"fpso\"))"
   ]
  },
  {
   "cell_type": "code",
   "execution_count": 33,
   "metadata": {},
   "outputs": [
    {
     "name": "stdout",
     "output_type": "stream",
     "text": [
      "Word2vec NILC: [('calcário', 0.8044923543930054), ('sal-gema', 0.7599688172340393), ('caulim', 0.7484027147293091), ('dolomito', 0.7317026853561401), ('quartzito', 0.7224701642990112), ('silte', 0.7205907106399536), ('quartzo', 0.7186048030853271), ('argila', 0.7185108065605164), ('basalto', 0.7175609469413757), ('betuminoso', 0.7171252965927124)]\n",
      "\n",
      "Word2vec: [('industrializacao', 0.7118463516235352), ('beneficiamento', 0.6388885974884033), ('retortado', 0.6340082287788391), ('xis', 0.6219643354415894), ('coque', 0.5903420448303223), ('retortagem', 0.5883123874664307), ('coqueamento', 0.5864564776420593), ('pirolise', 0.5689939260482788), ('craqueamento', 0.5638251900672913), ('retorta', 0.5636246204376221)]\n",
      "\n",
      "FastText: [('xis', 0.7364675998687744), ('betuminoso', 0.7200540900230408), ('betumino', 0.7117323875427246), ('dustrializacao', 0.7110459804534912), ('industrializacao', 0.7051936984062195), ('pirobetuminoso', 0.7001969814300537), ('materializacao', 0.6854915618896484), ('retortagem', 0.6803761124610901), ('retorta', 0.6773697137832642), ('betuminosa', 0.6755715608596802)]\n",
      "\n",
      "Glove: [('industrializacao', 0.7066826820373535), ('pirolisado', 0.6848999261856079), ('retortado', 0.6590679883956909), ('betuminoso', 0.6483100652694702), ('irati', 0.590578556060791), ('lrati', 0.5353893041610718), ('pirobetuminoso', 0.5218324065208435), ('retortagem', 0.5215033292770386), ('six', 0.5173065662384033), ('retorta', 0.51579350233078)]\n"
     ]
    }
   ],
   "source": [
    "print(\"Word2vec NILC:\", word2vecUSP.most_similar(\"xisto\"))\n",
    "print(\"\\nWord2vec:\", word2vec.most_similar(\"xisto\"))\n",
    "print(\"\\nFastText:\", fasttext.most_similar(\"xisto\"))\n",
    "print(\"\\nGlove:\", glove.most_similar(\"xisto\"))"
   ]
  },
  {
   "cell_type": "code",
   "execution_count": 34,
   "metadata": {},
   "outputs": [
    {
     "name": "stdout",
     "output_type": "stream",
     "text": [
      "Word2vec NILC: [('gruta', 0.6834011673927307), ('escavação', 0.6531394124031067), ('cratera', 0.6492607593536377), ('aluvião', 0.6486735343933105), ('mina', 0.6424802541732788), ('falésia', 0.6419443488121033), ('caverna', 0.6417596340179443), ('aurífera', 0.6401140689849854), ('represa', 0.6394657492637634), ('abundância', 0.6366080045700073)]\n",
      "\n",
      "Word2vec: [('descoberta', 0.6566312313079834), ('jazidas', 0.6540025472640991), ('reservatorio', 0.646669864654541), ('reservatorios', 0.6115314960479736), ('acumulacao', 0.5876063108444214), ('pioneiro', 0.5689417123794556), ('acumulacoes', 0.5634220838546753), ('subsolo', 0.5609085559844971), ('baiano', 0.5602347254753113), ('reserva', 0.5568268299102783)]\n",
      "\n",
      "FastText: [('jazi', 0.8868874311447144), ('jazidas', 0.7622203826904297), ('jaz', 0.7463197708129883), ('zida', 0.7040923833847046), ('salgema', 0.678133487701416), ('jaziel', 0.673247218132019), ('gema', 0.6529484987258911), ('trazida', 0.6522166728973389), ('rnsa', 0.6473028659820557), ('descoberta', 0.6424350142478943)]\n",
      "\n",
      "Glove: [('carv', 0.7299705147743225), ('jazidas', 0.5625669360160828), ('testar', 0.5284295082092285), ('descoberta', 0.5269172787666321), ('explotatorio', 0.508743405342102), ('drenar', 0.5016919374465942), ('visa', 0.4879210889339447), ('centipoises', 0.464781790971756), ('pioneiro', 0.4645059406757355), ('adjacente', 0.44474825263023376)]\n"
     ]
    }
   ],
   "source": [
    "print(\"Word2vec NILC:\", word2vecUSP.most_similar(\"jazida\"))\n",
    "print(\"\\nWord2vec:\", word2vec.most_similar(\"jazida\"))\n",
    "print(\"\\nFastText:\", fasttext.most_similar(\"jazida\"))\n",
    "print(\"\\nGlove:\", glove.most_similar(\"jazida\"))"
   ]
  },
  {
   "cell_type": "code",
   "execution_count": 35,
   "metadata": {},
   "outputs": [
    {
     "name": "stdout",
     "output_type": "stream",
     "text": [
      "Word2vec NILC: [('fi-fgts', 0.7974825501441956), ('bb', 0.7259819507598877), ('banrisul', 0.7202022075653076), ('proer', 0.717046856880188), ('bc', 0.7130774259567261), ('bnds', 0.7095311880111694), ('banco', 0.7046874761581421), ('inss', 0.7044186592102051), ('bcb', 0.6973555088043213), ('bradesco', 0.6916546821594238)]\n",
      "\n",
      "Word2vec: [('cnpq', 0.7610782980918884), ('bnde', 0.7582806348800659), ('mda', 0.7462868690490723), ('secretaria', 0.7374757528305054), ('faperj', 0.7369476556777954), ('sebrae', 0.7303488254547119), ('pronaf', 0.7232109308242798), ('finep', 0.7135637402534485), ('consultoria', 0.711689293384552), ('presidencia', 0.7080540060997009)]\n",
      "\n",
      "FastText: [('bnde', 0.7632105350494385), ('divenjsepes', 0.737777590751648), ('funtec', 0.7150455713272095), ('padct', 0.6988204121589661), ('patrocinadas', 0.6934109330177307), ('fomento', 0.6926552057266235), ('chefes', 0.6911084651947021), ('faperj', 0.6876885294914246), ('ctpetro', 0.687193751335144), ('didepjsepes', 0.6845077276229858)]\n",
      "\n",
      "Glove: [('bndespt', 0.6643677949905396), ('sitebndes', 0.6071504354476929), ('cgee', 0.5544549822807312), ('financiamento', 0.5133298635482788), ('finep', 0.5052834749221802), ('ctpetro', 0.46776291728019714), ('banco', 0.4477245509624481), ('setorial', 0.4215262532234192), ('bolsista', 0.4160016179084778), ('affonso', 0.4137188792228699)]\n"
     ]
    }
   ],
   "source": [
    "print(\"Word2vec NILC:\", word2vecUSP.most_similar(\"bndes\"))\n",
    "print(\"\\nWord2vec:\", word2vec.most_similar(\"bndes\"))\n",
    "print(\"\\nFastText:\", fasttext.most_similar(\"bndes\"))\n",
    "print(\"\\nGlove:\", glove.most_similar(\"bndes\"))"
   ]
  },
  {
   "cell_type": "code",
   "execution_count": 37,
   "metadata": {},
   "outputs": [
    {
     "name": "stdout",
     "output_type": "stream",
     "text": [
      "Word2vec NILC: [('izdeliye', 0.6431917548179626), ('staatsblad', 0.6199657917022705), ('nih0', 0.617359459400177), ('nothhelm', 0.6106435060501099), ('canotiers', 0.6083884835243225), ('jacot', 0.6077563762664795), ('ares-pcj', 0.6031854152679443), ('000\\xa0kn', 0.6012163758277893), ('grt', 0.601119339466095), ('000final', 0.5997470021247864)]\n",
      "\n",
      "Word2vec: [('mboe', 0.7515339851379395), ('ess', 0.7439290285110474), ('billions', 0.7125769853591919), ('bbls', 0.7111225128173828), ('tmc', 0.7054257392883301), ('hectares', 0.6768667101860046), ('mmm', 0.6755164265632629), ('bcm', 0.6669551730155945), ('trilhao', 0.6573941707611084), ('cpse', 0.6562301516532898)]\n",
      "\n",
      "FastText: [('mmm', 0.8092008233070374), ('mmmm', 0.7576825618743896), ('sigep', 0.7391470670700073), ('trilhao', 0.738537073135376), ('milhao', 0.7372209429740906), ('boer', 0.7351581454277039), ('safaniya', 0.7141740918159485), ('bpdc', 0.713121771812439), ('bbls', 0.7065007090568542), ('rgn', 0.7038259506225586)]\n",
      "\n",
      "Glove: [('excetuados', 0.6664555072784424), ('billions', 0.636035144329071), ('mboe', 0.5464763045310974), ('barris', 0.46028053760528564), ('eustatius', 0.45665496587753296), ('campos', 0.45291757583618164), ('bilhoes', 0.44777029752731323), ('distritos', 0.43774449825286865), ('urgns', 0.4376111626625061), ('milhoes', 0.43283164501190186)]\n"
     ]
    }
   ],
   "source": [
    "print(\"Word2vec NILC:\", word2vecUSP.most_similar(\"boe\"))\n",
    "print(\"\\nWord2vec:\", word2vec.most_similar(\"boe\"))\n",
    "print(\"\\nFastText:\", fasttext.most_similar(\"boe\"))\n",
    "print(\"\\nGlove:\", glove.most_similar(\"boe\"))"
   ]
  },
  {
   "cell_type": "code",
   "execution_count": 38,
   "metadata": {},
   "outputs": [
    {
     "name": "stdout",
     "output_type": "stream",
     "text": [
      "Word2vec NILC: [('blues', 0.7870052456855774), ('funky', 0.7817606925964355), ('blues-rock', 0.7767801880836487), ('trance', 0.7751904129981995), ('hard', 0.7735344171524048), ('rock', 0.7732647061347961), ('soul', 0.7729597091674805), (\"b'z\", 0.7688537836074829), ('cool', 0.7677505016326904), ('sentenced', 0.7677018642425537)]\n",
      "\n",
      "Word2vec: [('descida', 0.8277943134307861), ('camisa', 0.8265658020973206), ('haste', 0.8188451528549194), ('rotativa', 0.7982748746871948), ('obturador', 0.795501708984375), ('flange', 0.790570080280304), ('anmh', 0.7786294221878052), ('choke', 0.7771759629249573), ('suspensor', 0.7769321799278259), ('mandril', 0.7751404643058777)]\n",
      "\n",
      "FastText: [('choke', 0.7811551094055176), ('blowoff', 0.7805880308151245), ('borbulhador', 0.7720789909362793), ('steamout', 0.7647429704666138), ('downcomer', 0.7581462860107422), ('blowout', 0.757866382598877), ('«k»', 0.7555733919143677), ('bobi', 0.753921627998352), ('psv', 0.7537146806716919), ('yoke', 0.7478817701339722)]\n",
      "\n",
      "Glove: [('preventer', 0.6917374134063721), ('gaveta', 0.5955173969268799), ('blowout', 0.5200526118278503), ('gavetas', 0.4908975064754486), ('preparativa', 0.48403555154800415), ('riser', 0.4729956388473511), ('pod', 0.47220954298973083), ('angulo', 0.45800167322158813), ('cabeca', 0.45506060123443604), ('lmrp', 0.4501100480556488)]\n"
     ]
    }
   ],
   "source": [
    "print(\"Word2vec NILC:\", word2vecUSP.most_similar(\"bop\"))\n",
    "print(\"\\nWord2vec:\", word2vec.most_similar(\"bop\"))\n",
    "print(\"\\nFastText:\", fasttext.most_similar(\"bop\"))\n",
    "print(\"\\nGlove:\", glove.most_similar(\"bop\"))"
   ]
  },
  {
   "cell_type": "code",
   "execution_count": 39,
   "metadata": {},
   "outputs": [
    {
     "name": "stdout",
     "output_type": "stream",
     "text": [
      "Word2vec NILC: [('falls', 0.8421586155891418), ('valley', 0.8408521413803101), ('east', 0.832735538482666), ('north', 0.829494833946228), ('grove', 0.8191810250282288), ('highland', 0.8155704736709595), ('south', 0.8117349743843079), ('lakes', 0.8063526749610901), ('worth', 0.8054975271224976), ('glenwood', 0.8015453219413757)]\n",
      "\n",
      "Word2vec: [('stiffener', 0.9116308689117432), ('stiffeners', 0.8296939730644226), ('convex', 0.7510143518447876), ('acceleration', 0.7493157982826233), ('gay', 0.7378434538841248), ('tracionada', 0.7368569374084473), ('schematic', 0.7353116273880005), ('buoyancy', 0.733235239982605), ('shear', 0.7307764291763306), ('suppe', 0.7300522923469543)]\n",
      "\n",
      "FastText: [('bends', 0.8998632431030273), ('beneath', 0.8863988518714905), ('bending', 0.8629611134529114), ('bent', 0.8576089143753052), ('benthic', 0.8409378528594971), ('benthonic', 0.8265270590782166), ('behind', 0.8112804889678955), ('eastwest', 0.8071054816246033), ('whlch', 0.8059380054473877), ('famous', 0.8052230477333069)]\n",
      "\n",
      "Glove: [('stiffeners', 0.844407320022583), ('stiffener', 0.8119882345199585), ('enrijecedores', 0.5058863162994385), ('pregel', 0.5004643201828003), ('sdspage', 0.4823340177536011), ('ningxia', 0.4793294370174408), ('shenhua', 0.47651153802871704), ('shaanxi', 0.47361940145492554), ('estatpesca', 0.4672577679157257), ('proemb', 0.4649847149848938)]\n"
     ]
    }
   ],
   "source": [
    "print(\"Word2vec NILC:\", word2vecUSP.most_similar(\"bend\"))\n",
    "print(\"\\nWord2vec:\", word2vec.most_similar(\"bend\"))\n",
    "print(\"\\nFastText:\", fasttext.most_similar(\"bend\"))\n",
    "print(\"\\nGlove:\", glove.most_similar(\"bend\"))"
   ]
  },
  {
   "cell_type": "code",
   "execution_count": 40,
   "metadata": {},
   "outputs": [
    {
     "name": "stdout",
     "output_type": "stream",
     "text": [
      "Word2vec NILC: [('vivência', 0.7627602815628052), ('labuta', 0.729910671710968), ('individualidade', 0.729108452796936), ('sexualidade', 0.7236725687980652), ('solidão', 0.7197981476783752), ('intimidade', 0.7195885181427002), ('feminilidade', 0.7125911712646484), ('alma', 0.7025927305221558), ('infância', 0.6991640329360962), ('plenitude', 0.6832057237625122)]\n",
      "\n",
      "Word2vec: [('util', 0.5952600836753845), ('duracao', 0.5712006688117981), ('homem', 0.5086050629615784), ('obra', 0.5020443201065063), ('sobrevivencia', 0.5007968544960022), ('sempre', 0.48398086428642273), ('fadiga', 0.4795868396759033), ('espera', 0.4760780334472656), ('manutencao', 0.4683634638786316), ('jornada', 0.4661601781845093)]\n",
      "\n",
      "FastText: [('vidade', 0.6677294969558716), ('homem', 0.656797468662262), ('util', 0.6486707925796509), ('humanidade', 0.6282467246055603), ('vivencia', 0.620993435382843), ('durabilidade', 0.6171749234199524), ('duvida', 0.6163619756698608), ('judicada', 0.6161932945251465), ('vontade', 0.6106631755828857), ('havida', 0.6104034185409546)]\n",
      "\n",
      "Glove: [('util', 0.7810699939727783), ('iieses', 0.7388823628425598), ('pregressa', 0.62462317943573), ('sempre', 0.5579009056091309), ('produtiva', 0.5459314584732056), ('toda', 0.5455143451690674), ('fadiga', 0.5444972515106201), ('longo', 0.51347815990448), ('longa', 0.49999091029167175), ('prolongar', 0.49119752645492554)]\n"
     ]
    }
   ],
   "source": [
    "print(\"Word2vec NILC:\", word2vecUSP.most_similar(\"vida\"))\n",
    "print(\"\\nWord2vec:\", word2vec.most_similar(\"vida\"))\n",
    "print(\"\\nFastText:\", fasttext.most_similar(\"vida\"))\n",
    "print(\"\\nGlove:\", glove.most_similar(\"vida\"))"
   ]
  },
  {
   "cell_type": "code",
   "execution_count": 41,
   "metadata": {},
   "outputs": [
    {
     "name": "stdout",
     "output_type": "stream",
     "text": [
      "Word2vec NILC: [('silvino', 0.6370324492454529), ('revez', 0.6313093304634094), ('quieto', 0.629339873790741), ('tinoco', 0.6259989142417908), ('martelinho', 0.6230676174163818), ('hélder', 0.621656060218811), ('litos', 0.6210840940475464), ('goularte', 0.6181627511978149), ('latapy', 0.6175791621208191), ('brazete', 0.6171959042549133)]\n",
      "\n",
      "Word2vec: [('costado', 0.7635122537612915), ('navio', 0.6991381645202637), ('teto', 0.6947410106658936), ('petroleiro', 0.6899563074111938), ('conves', 0.6755985021591187), ('barco', 0.6641309857368469), ('proa', 0.6479184627532959), ('polegadas', 0.6422131061553955), ('boia', 0.6406625509262085), ('ancora', 0.6404825448989868)]\n",
      "\n",
      "FastText: [('talado', 0.7671670913696289), ('callado', 0.7559791803359985), ('ftxado', 0.7326782941818237), ('tdo', 0.7314313650131226), ('jado', 0.722137451171875), ('telado', 0.7135930061340332), ('mdo', 0.7114789485931396), ('·e', 0.7086361646652222), ('qdo', 0.7074083685874939), ('beado', 0.6936711668968201)]\n",
      "\n",
      "Glove: [('navio', 0.4892001748085022), ('milimetros', 0.4640791714191437), ('raton', 0.4636020064353943), ('tpb', 0.4608902335166931), ('pontal', 0.45300057530403137), ('avante', 0.4426347613334656), ('casco', 0.43438640236854553), ('medba', 0.4122854471206665), ('calados', 0.4053085744380951), ('fpm', 0.4027819037437439)]\n"
     ]
    }
   ],
   "source": [
    "print(\"Word2vec NILC:\", word2vecUSP.most_similar(\"calado\"))\n",
    "print(\"\\nWord2vec:\", word2vec.most_similar(\"calado\"))\n",
    "print(\"\\nFastText:\", fasttext.most_similar(\"calado\"))\n",
    "print(\"\\nGlove:\", glove.most_similar(\"calado\"))"
   ]
  },
  {
   "cell_type": "code",
   "execution_count": 42,
   "metadata": {},
   "outputs": [
    {
     "name": "stdout",
     "output_type": "stream",
     "text": [
      "Word2vec NILC: [('meir', 0.7157366275787354), ('ghozali', 0.7092069983482361), ('ouyahia', 0.6554877758026123), ('korei', 0.6460690498352051), ('nasrallah', 0.6318567991256714), ('solh', 0.6285773515701294), ('rafique', 0.6242324113845825), ('siniora', 0.6236035227775574), ('taya', 0.6214509010314941), ('fayza', 0.6193060874938965)]\n",
      "\n",
      "Word2vec: [('pitch', 0.6754122972488403), ('heave', 0.6673228740692139), ('roll', 0.6629317998886108), ('sway', 0.6354880332946777), ('zonal', 0.6030803322792053), ('ceres', 0.5772385597229004), ('yaw', 0.5772119760513306), ('bearman', 0.5708839893341064), ('cdp', 0.5678396224975586), ('portacontentor', 0.5621778964996338)]\n",
      "\n",
      "FastText: [('arao', 0.7168952226638794), ('darao', 0.7136907577514648), ('crao', 0.6284139156341553), ('gao', 0.6258827447891235), ('tirao', 0.6240277290344238), ('mourao', 0.5945626497268677), ('barao', 0.586988091468811), ('virao', 0.5817279815673828), ('farao', 0.5772965550422668), ('qao', 0.5754623413085938)]\n",
      "\n",
      "Glove: [('bhaskara', 0.6707683801651001), ('adusumilli', 0.48817598819732666), ('pelc', 0.4862017035484314), ('heave', 0.4569736123085022), ('sway', 0.42428064346313477), ('roll', 0.42131203413009644), ('ller', 0.41709497570991516), ('eve', 0.4149901866912842), ('bavastri', 0.4130966067314148), ('pitch', 0.3870645761489868)]\n"
     ]
    }
   ],
   "source": [
    "print(\"Word2vec NILC:\", word2vecUSP.most_similar(\"rao\"))\n",
    "print(\"\\nWord2vec:\", word2vec.most_similar(\"rao\"))\n",
    "print(\"\\nFastText:\", fasttext.most_similar(\"rao\"))\n",
    "print(\"\\nGlove:\", glove.most_similar(\"rao\"))"
   ]
  },
  {
   "cell_type": "code",
   "execution_count": 43,
   "metadata": {},
   "outputs": [
    {
     "name": "stdout",
     "output_type": "stream",
     "text": [
      "Word2vec NILC: [('checagem', 0.7732164859771729), ('demonstração', 0.7241286039352417), ('varredura', 0.7110142111778259), ('modelagem', 0.7060185670852661), ('filtragem', 0.6819562911987305), ('prototipagem', 0.6805096864700317), ('decodificação', 0.6773649454116821), ('não-linear', 0.6771098971366882), ('visualização', 0.6724825501441956), ('medição', 0.6701599955558777)]\n",
      "\n",
      "Word2vec: [('modelagem', 0.7993102073669434), ('simulacoes', 0.6973596215248108), ('numerica', 0.6938822865486145), ('otimizacao', 0.6721594333648682), ('simulador', 0.6427908539772034), ('computacional', 0.6106745004653931), ('predicao', 0.5985020399093628), ('calculos', 0.5806753039360046), ('corrida', 0.5630293488502502), ('extrapolacao', 0.5621236562728882)]\n",
      "\n",
      "FastText: [('simulacoes', 0.8505964875221252), ('simulador', 0.8219274878501892), ('simula', 0.8170664310455322), ('simulado', 0.8146361112594604), ('simulam', 0.8118739128112793), ('simular', 0.8115243911743164), ('simul', 0.8031078577041626), ('simulada', 0.7925360202789307), ('simulacion', 0.7906521558761597), ('mulacao', 0.7637084722518921)]\n",
      "\n",
      "Glove: [('modelagem', 0.7677847146987915), ('computacional', 0.6819025278091431), ('numerica', 0.6778448820114136), ('modelo', 0.6480573415756226), ('modelos', 0.6145208477973938), ('termohidraulica', 0.6136467456817627), ('regiaocomercializadodispensadobase', 0.5862995386123657), ('malha', 0.5795442461967468), ('simulacoes', 0.5731765627861023), ('experimental', 0.5482794046401978)]\n"
     ]
    }
   ],
   "source": [
    "print(\"Word2vec NILC:\", word2vecUSP.most_similar(\"simulação\"))\n",
    "print(\"\\nWord2vec:\", word2vec.most_similar(\"simulacao\"))\n",
    "print(\"\\nFastText:\", fasttext.most_similar(\"simulacao\"))\n",
    "print(\"\\nGlove:\", glove.most_similar(\"simulacao\"))"
   ]
  },
  {
   "cell_type": "code",
   "execution_count": 47,
   "metadata": {},
   "outputs": [
    {
     "name": "stdout",
     "output_type": "stream",
     "text": [
      "Word2vec: [('pesquisas', 0.644569993019104), ('laboratorio', 0.5447458028793335), ('excelencia', 0.5352647304534912), ('vimento', 0.5290086269378662), ('capacitacao', 0.5250895619392395), ('laboratorios', 0.5190221071243286), ('quisas', 0.5147719383239746), ('sedimentologia', 0.512439489364624), ('catalise', 0.5080164670944214), ('pesqui', 0.5037531852722168)]\n"
     ]
    }
   ],
   "source": [
    "print(\"Word2vec:\", word2vec.most_similar(positive=[\"cenpes\", \"pesquisa\"], negative=[\"petrobras\"]))"
   ]
  },
  {
   "cell_type": "code",
   "execution_count": null,
   "metadata": {
    "collapsed": true
   },
   "outputs": [],
   "source": []
  }
 ],
 "metadata": {
  "kernelspec": {
   "display_name": "Python 3",
   "language": "python",
   "name": "python3"
  },
  "language_info": {
   "codemirror_mode": {
    "name": "ipython",
    "version": 3
   },
   "file_extension": ".py",
   "mimetype": "text/x-python",
   "name": "python",
   "nbconvert_exporter": "python",
   "pygments_lexer": "ipython3",
   "version": "3.7.1"
  }
 },
 "nbformat": 4,
 "nbformat_minor": 2
}
